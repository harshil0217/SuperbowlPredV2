{
  "cells": [
    {
      "cell_type": "markdown",
      "source": [
        "# Logistic Regression"
      ],
      "metadata": {
        "nteract": {
          "transient": {
            "deleting": false
          }
        }
      }
    },
    {
      "cell_type": "markdown",
      "source": [
        "#### I employ a logistic regression to predict the winner of the SuperBowl based on regular season statistics."
      ],
      "metadata": {
        "nteract": {
          "transient": {
            "deleting": false
          }
        }
      }
    },
    {
      "cell_type": "markdown",
      "source": [
        "##### Imports"
      ],
      "metadata": {
        "nteract": {
          "transient": {
            "deleting": false
          }
        }
      }
    },
    {
      "cell_type": "code",
      "source": [
        "import pandas as pd\n",
        "from sklearn.model_selection import StratifiedShuffleSplit\n",
        "from imblearn.over_sampling import SMOTE"
      ],
      "outputs": [],
      "execution_count": 1,
      "metadata": {
        "jupyter": {
          "source_hidden": false,
          "outputs_hidden": false
        },
        "nteract": {
          "transient": {
            "deleting": false
          }
        },
        "gather": {
          "logged": 1704825115159
        }
      }
    },
    {
      "cell_type": "markdown",
      "source": [
        "I first extract the processed PCA and non-PCA season statistics data and load them as dataframes"
      ],
      "metadata": {
        "nteract": {
          "transient": {
            "deleting": false
          }
        }
      }
    },
    {
      "cell_type": "code",
      "source": [
        "stats = pd.read_csv(\"../data/processed/NFL_stats.csv\")\n",
        "pca_stats = pd.read_csv(\"../data/processed/PCA_NFL_stats.csv\")\n",
        "\n",
        "stats = stats.drop([\"Year\", \"Team\"], axis = 1)\n",
        "pca_stats = pca_stats.drop([\"Year\", \"Team\"], axis = 1)"
      ],
      "outputs": [],
      "execution_count": 3,
      "metadata": {
        "gather": {
          "logged": 1704825123235
        }
      }
    },
    {
      "cell_type": "markdown",
      "source": [
        "I then split the data into training and testing sets using stratification to ensure proportional representation of Superbowl winners. This is important because, by definition, winners (regarded as the positive class in this dataset) will constitute only 1/32 of the total data."
      ],
      "metadata": {
        "nteract": {
          "transient": {
            "deleting": false
          }
        }
      }
    },
    {
      "cell_type": "code",
      "source": [
        "split = StratifiedShuffleSplit(n_splits = 1, test_size = 0.2, random_state = 69)\n",
        "\n",
        "for train_index, test_index in split.split(stats, stats[\"Superbowl Status\"]):\n",
        "    stats_train = stats.loc[train_index]\n",
        "    stats_test = stats.loc[test_index]\n",
        "\n",
        "sb_train = stats_train[\"Superbowl Status\"]\n",
        "sb_test = stats_test[\"Superbowl Status\"]\n",
        "\n",
        "stats_train = stats_train.drop([\"Superbowl Status\"], axis = 1)\n",
        "stats_test = stats_test.drop([\"Superbowl Status\"], axis = 1)\n",
        "\n",
        "stats_test\n",
        "\n",
        "for train_index, test_index in split.split(pca_stats, pca_stats[\"Superbowl Status\"]):\n",
        "    pca_stats_train = pca_stats.loc[train_index]\n",
        "    pca_stats_test = pca_stats.loc[test_index]\n",
        "\n",
        "pca_stats_train = pca_stats_train.drop([\"Superbowl Status\"], axis = 1)\n",
        "pca_stats_test = pca_stats_test.drop([\"Superbowl Status\"], axis = 1)\n",
        "\n",
        "pca_stats_test"
      ],
      "outputs": [
        {
          "output_type": "execute_result",
          "execution_count": 4,
          "data": {
            "text/plain": "         pca0\n113 -1.145308\n106  0.698567\n306 -0.787280\n583 -0.671622\n131 -0.898767\n..        ...\n146 -0.920795\n277  1.570849\n175 -1.107329\n281  0.369291\n78  -1.423571\n\n[122 rows x 1 columns]",
            "text/html": "<div>\n<style scoped>\n    .dataframe tbody tr th:only-of-type {\n        vertical-align: middle;\n    }\n\n    .dataframe tbody tr th {\n        vertical-align: top;\n    }\n\n    .dataframe thead th {\n        text-align: right;\n    }\n</style>\n<table border=\"1\" class=\"dataframe\">\n  <thead>\n    <tr style=\"text-align: right;\">\n      <th></th>\n      <th>pca0</th>\n    </tr>\n  </thead>\n  <tbody>\n    <tr>\n      <th>113</th>\n      <td>-1.145308</td>\n    </tr>\n    <tr>\n      <th>106</th>\n      <td>0.698567</td>\n    </tr>\n    <tr>\n      <th>306</th>\n      <td>-0.787280</td>\n    </tr>\n    <tr>\n      <th>583</th>\n      <td>-0.671622</td>\n    </tr>\n    <tr>\n      <th>131</th>\n      <td>-0.898767</td>\n    </tr>\n    <tr>\n      <th>...</th>\n      <td>...</td>\n    </tr>\n    <tr>\n      <th>146</th>\n      <td>-0.920795</td>\n    </tr>\n    <tr>\n      <th>277</th>\n      <td>1.570849</td>\n    </tr>\n    <tr>\n      <th>175</th>\n      <td>-1.107329</td>\n    </tr>\n    <tr>\n      <th>281</th>\n      <td>0.369291</td>\n    </tr>\n    <tr>\n      <th>78</th>\n      <td>-1.423571</td>\n    </tr>\n  </tbody>\n</table>\n<p>122 rows × 1 columns</p>\n</div>"
          },
          "metadata": {}
        }
      ],
      "execution_count": 4,
      "metadata": {
        "jupyter": {
          "source_hidden": false,
          "outputs_hidden": false
        },
        "nteract": {
          "transient": {
            "deleting": false
          }
        },
        "gather": {
          "logged": 1704825125187
        }
      }
    },
    {
      "cell_type": "markdown",
      "source": [
        "I then use SMOTE to oversample the minority class (teams that won a SuperBowl)."
      ],
      "metadata": {
        "nteract": {
          "transient": {
            "deleting": false
          }
        }
      }
    },
    {
      "cell_type": "code",
      "source": [],
      "outputs": [],
      "execution_count": null,
      "metadata": {
        "jupyter": {
          "source_hidden": false,
          "outputs_hidden": false
        },
        "nteract": {
          "transient": {
            "deleting": false
          }
        }
      }
    }
  ],
  "metadata": {
    "kernelspec": {
      "name": "python310-sdkv2",
      "language": "python",
      "display_name": "Python 3.10 - SDK v2"
    },
    "language_info": {
      "name": "python",
      "version": "3.10.11",
      "mimetype": "text/x-python",
      "codemirror_mode": {
        "name": "ipython",
        "version": 3
      },
      "pygments_lexer": "ipython3",
      "nbconvert_exporter": "python",
      "file_extension": ".py"
    },
    "microsoft": {
      "ms_spell_check": {
        "ms_spell_check_language": "en"
      },
      "host": {
        "AzureML": {
          "notebookHasBeenCompleted": true
        }
      }
    },
    "kernel_info": {
      "name": "python310-sdkv2"
    },
    "nteract": {
      "version": "nteract-front-end@1.0.0"
    }
  },
  "nbformat": 4,
  "nbformat_minor": 2
}