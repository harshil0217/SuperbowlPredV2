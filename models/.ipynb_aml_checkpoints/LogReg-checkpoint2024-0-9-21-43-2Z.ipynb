{
  "cells": [
    {
      "cell_type": "markdown",
      "source": [
        "# Logistic Regression"
      ],
      "metadata": {
        "nteract": {
          "transient": {
            "deleting": false
          }
        }
      }
    },
    {
      "cell_type": "markdown",
      "source": [
        "#### I employ a logistic regression to predict the winner of the SuperBowl based on regular season statistics."
      ],
      "metadata": {
        "nteract": {
          "transient": {
            "deleting": false
          }
        }
      }
    },
    {
      "cell_type": "markdown",
      "source": [
        "##### Imports"
      ],
      "metadata": {
        "nteract": {
          "transient": {
            "deleting": false
          }
        }
      }
    },
    {
      "cell_type": "code",
      "source": [
        "import numpy as np\n",
        "import pandas as pd\n",
        "from sklearn.model_selection import StratifiedShuffleSplit\n",
        "from imblearn.over_sampling import SMOTE\n",
        "from sklearn.linear_model import LogisticRegression\n",
        "from sklearn.model_selection import GridSearchCV\n",
        "from sklearn.metrics import confusion_matrix, classification_report"
      ],
      "outputs": [
        {
          "output_type": "error",
          "ename": "ModuleNotFoundError",
          "evalue": "No module named 'imblearn'",
          "traceback": [
            "\u001b[0;31m---------------------------------------------------------------------------\u001b[0m",
            "\u001b[0;31mModuleNotFoundError\u001b[0m                       Traceback (most recent call last)",
            "Cell \u001b[0;32mIn[1], line 4\u001b[0m\n\u001b[1;32m      2\u001b[0m \u001b[38;5;28;01mimport\u001b[39;00m \u001b[38;5;21;01mpandas\u001b[39;00m \u001b[38;5;28;01mas\u001b[39;00m \u001b[38;5;21;01mpd\u001b[39;00m\n\u001b[1;32m      3\u001b[0m \u001b[38;5;28;01mfrom\u001b[39;00m \u001b[38;5;21;01msklearn\u001b[39;00m\u001b[38;5;21;01m.\u001b[39;00m\u001b[38;5;21;01mmodel_selection\u001b[39;00m \u001b[38;5;28;01mimport\u001b[39;00m StratifiedShuffleSplit\n\u001b[0;32m----> 4\u001b[0m \u001b[38;5;28;01mfrom\u001b[39;00m \u001b[38;5;21;01mimblearn\u001b[39;00m\u001b[38;5;21;01m.\u001b[39;00m\u001b[38;5;21;01mover_sampling\u001b[39;00m \u001b[38;5;28;01mimport\u001b[39;00m SMOTE\n\u001b[1;32m      5\u001b[0m \u001b[38;5;28;01mfrom\u001b[39;00m \u001b[38;5;21;01msklearn\u001b[39;00m\u001b[38;5;21;01m.\u001b[39;00m\u001b[38;5;21;01mlinear_model\u001b[39;00m \u001b[38;5;28;01mimport\u001b[39;00m LogisticRegression\n\u001b[1;32m      6\u001b[0m \u001b[38;5;28;01mfrom\u001b[39;00m \u001b[38;5;21;01msklearn\u001b[39;00m\u001b[38;5;21;01m.\u001b[39;00m\u001b[38;5;21;01mmodel_selection\u001b[39;00m \u001b[38;5;28;01mimport\u001b[39;00m GridSearchCV\n",
            "\u001b[0;31mModuleNotFoundError\u001b[0m: No module named 'imblearn'"
          ]
        }
      ],
      "execution_count": 1,
      "metadata": {
        "jupyter": {
          "source_hidden": false,
          "outputs_hidden": false
        },
        "nteract": {
          "transient": {
            "deleting": false
          }
        },
        "gather": {
          "logged": 1704835608857
        }
      }
    },
    {
      "cell_type": "markdown",
      "source": [
        "I first extract the processed PCA and non-PCA season statistics data and load them as dataframes"
      ],
      "metadata": {
        "nteract": {
          "transient": {
            "deleting": false
          }
        }
      }
    },
    {
      "cell_type": "code",
      "source": [
        "stats = pd.read_csv(\"../data/processed/NFL_stats.csv\")\n",
        "pca_stats = pd.read_csv(\"../data/processed/PCA_NFL_stats.csv\")\n",
        "\n",
        "stats = stats.drop([\"Year\", \"Team\"], axis = 1)\n",
        "pca_stats = pca_stats.drop([\"Year\", \"Team\"], axis = 1)"
      ],
      "outputs": [],
      "execution_count": null,
      "metadata": {
        "gather": {
          "logged": 1704835609008
        }
      }
    },
    {
      "cell_type": "markdown",
      "source": [
        "I then split the data into training and testing sets using stratification to ensure proportional representation of Superbowl winners. This is important because, by definition, winners (regarded as the positive class in this dataset) will constitute only 1/32 of the total data."
      ],
      "metadata": {
        "nteract": {
          "transient": {
            "deleting": false
          }
        }
      }
    },
    {
      "cell_type": "code",
      "source": [
        "split = StratifiedShuffleSplit(n_splits = 1, test_size = 0.2, random_state = 69)\n",
        "\n",
        "for train_index, test_index in split.split(stats, stats[\"Superbowl Status\"]):\n",
        "    stats_train = stats.loc[train_index]\n",
        "    stats_test = stats.loc[test_index]\n",
        "\n",
        "sb_train = stats_train[\"Superbowl Status\"]\n",
        "sb_test = stats_test[\"Superbowl Status\"]\n",
        "\n",
        "stats_train = stats_train.drop([\"Superbowl Status\"], axis = 1)\n",
        "stats_test = stats_test.drop([\"Superbowl Status\"], axis = 1)\n",
        "\n",
        "stats_test\n",
        "\n",
        "for train_index, test_index in split.split(pca_stats, pca_stats[\"Superbowl Status\"]):\n",
        "    pca_stats_train = pca_stats.loc[train_index]\n",
        "    pca_stats_test = pca_stats.loc[test_index]\n",
        "\n",
        "pca_sb_train = pca_stats_train[\"Superbowl Status\"]\n",
        "pca_sb_test = pca_stats_test[\"Superbowl Status\"]\n",
        "\n",
        "pca_stats_train = pca_stats_train.drop([\"Superbowl Status\"], axis = 1)\n",
        "pca_stats_test = pca_stats_test.drop([\"Superbowl Status\"], axis = 1)\n",
        "\n",
        "pca_stats_test"
      ],
      "outputs": [],
      "execution_count": null,
      "metadata": {
        "jupyter": {
          "source_hidden": false,
          "outputs_hidden": false
        },
        "nteract": {
          "transient": {
            "deleting": false
          }
        },
        "gather": {
          "logged": 1704835609024
        }
      }
    },
    {
      "cell_type": "markdown",
      "source": [
        "I then use SMOTE to oversample the minority class (teams that won a SuperBowl)."
      ],
      "metadata": {
        "nteract": {
          "transient": {
            "deleting": false
          }
        }
      }
    },
    {
      "cell_type": "code",
      "source": [
        "smote = SMOTE(random_state=69)\n",
        "stats_train, sb_train = smote.fit_resample(stats_train, sb_train)\n",
        "pca_stats_train, pca_sb_train = smote.fit_resample(pca_stats_train, pca_sb_train)"
      ],
      "outputs": [],
      "execution_count": null,
      "metadata": {
        "jupyter": {
          "source_hidden": false,
          "outputs_hidden": false
        },
        "nteract": {
          "transient": {
            "deleting": false
          }
        },
        "gather": {
          "logged": 1704835609050
        }
      }
    },
    {
      "cell_type": "markdown",
      "source": [
        "I then train logistic regression classifiers for both non-PCA and PCA data, optimizing with GridSearchCV"
      ],
      "metadata": {
        "nteract": {
          "transient": {
            "deleting": false
          }
        }
      }
    },
    {
      "cell_type": "code",
      "source": [
        "LogReg = LogisticRegression()\n",
        "\n",
        "params = {\n",
        "    'penalty' : ['l1','l2'], \n",
        "    'C'       : np.logspace(-3,3,7),\n",
        "    'solver'  : ['newton-cg', 'lbfgs', 'liblinear']\n",
        "}\n",
        "\n",
        "grid_log = GridSearchCV(LogReg, params)\n",
        "pca_grid_log = GridSearchCV(LogReg, params)\n",
        "\n",
        "grid_log = grid_log.fit(stats_train, sb_train)\n",
        "pca_grid_log = pca_grid_log.fit(pca_stats_train, pca_sb_train)\n"
      ],
      "outputs": [],
      "execution_count": null,
      "metadata": {
        "jupyter": {
          "source_hidden": false,
          "outputs_hidden": false
        },
        "nteract": {
          "transient": {
            "deleting": false
          }
        },
        "gather": {
          "logged": 1704835609080
        }
      }
    }
  ],
  "metadata": {
    "kernelspec": {
      "name": "python38-azureml",
      "language": "python",
      "display_name": "Python 3.8 - AzureML"
    },
    "language_info": {
      "name": "python",
      "version": "3.8.5",
      "mimetype": "text/x-python",
      "codemirror_mode": {
        "name": "ipython",
        "version": 3
      },
      "pygments_lexer": "ipython3",
      "nbconvert_exporter": "python",
      "file_extension": ".py"
    },
    "microsoft": {
      "ms_spell_check": {
        "ms_spell_check_language": "en"
      },
      "host": {
        "AzureML": {
          "notebookHasBeenCompleted": true
        }
      }
    },
    "kernel_info": {
      "name": "python38-azureml"
    },
    "nteract": {
      "version": "nteract-front-end@1.0.0"
    }
  },
  "nbformat": 4,
  "nbformat_minor": 2
}