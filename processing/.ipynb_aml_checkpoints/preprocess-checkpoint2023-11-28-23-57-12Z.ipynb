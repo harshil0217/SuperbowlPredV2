{
  "cells": [
    {
      "cell_type": "code",
      "source": [
        "import pandas as pd"
      ],
      "outputs": [],
      "execution_count": 1,
      "metadata": {
        "gather": {
          "logged": 1703795589915
        }
      }
    },
    {
      "cell_type": "code",
      "source": [
        "offense = pd.read_csv(\"../data/raw/NFLRegSeasonOffenseStats.csv\")\n",
        "defense = pd.read_csv(\"../data/raw/NFLRegSeasonDefenseStats.csv\")"
      ],
      "outputs": [],
      "execution_count": 2,
      "metadata": {
        "jupyter": {
          "source_hidden": false,
          "outputs_hidden": false
        },
        "nteract": {
          "transient": {
            "deleting": false
          }
        },
        "gather": {
          "logged": 1703795590118
        }
      }
    },
    {
      "cell_type": "code",
      "source": [
        "offense"
      ],
      "outputs": [
        {
          "output_type": "execute_result",
          "execution_count": 3,
          "data": {
            "text/plain": "    iso_code              Team Conference     City       State  Year  Wins  \\\n0         BB     Buffalo Bills   AFC East  Buffalo    New York  2004     9   \n1         BB     Buffalo Bills   AFC East  Buffalo    New York  2005     5   \n2         BB     Buffalo Bills   AFC East  Buffalo    New York  2006     7   \n3         BB     Buffalo Bills   AFC East  Buffalo    New York  2007     7   \n4         BB     Buffalo Bills   AFC East  Buffalo    New York  2008     7   \n..       ...               ...        ...      ...         ...   ...   ...   \n603       SS  Seattle Seahawks   NFC West  Seattle  Washington  2018    10   \n604       SS  Seattle Seahawks   NFC West  Seattle  Washington  2019    11   \n605       SS  Seattle Seahawks   NFC West  Seattle  Washington  2020    12   \n606       SS  Seattle Seahawks   NFC West  Seattle  Washington  2021     7   \n607       SS  Seattle Seahawks   NFC West  Seattle  Washington  2022     9   \n\n     Losses  Ties  Passing_Attempts  ...  Receiving_Yards  Receiving_TDs  \\\n0         7     0               461  ...             3032             21   \n1        11     0               459  ...             2852             18   \n2         9     0               431  ...             3051             19   \n3         9     0               445  ...             2842             12   \n4         9     0               479  ...             3302             14   \n..      ...   ...               ...  ...              ...            ...   \n603       6     0               427  ...             3448             35   \n604       5     0               517  ...             4110             31   \n605       4     0               563  ...             4245             40   \n606      10     0               495  ...             3815             30   \n607       8     0               573  ...             4282             30   \n\n     Reciever_Fumbles  Two_Point_Conversions  Kick_Return_TDs  \\\n0                   4                      0                3   \n1                   1                      0                1   \n2                   3                      0                0   \n3                   4                      1                1   \n4                   7                      1                1   \n..                ...                    ...              ...   \n603                 4                      1                0   \n604                 8                      1                0   \n605                 3                      1                0   \n606                11                      1                1   \n607                 4                      0                0   \n\n     Punt_Return_TDs  Field_Goals_Attempts  Field_Goals_Made  \\\n0                  2                    28                24   \n1                  0                    35                29   \n2                  1                    25                23   \n3                  1                    27                24   \n4                  1                    38                30   \n..               ...                   ...               ...   \n603                0                    27                22   \n604                0                    28                23   \n605                0                    24                24   \n606                0                    23                17   \n607                0                    37                34   \n\n     Extra_Points_Attempts  Extra_Points_Made  \n0                       45                 45  \n1                       26                 26  \n2                       33                 33  \n3                       24                 24  \n4                       34                 34  \n..                     ...                ...  \n603                     51                 48  \n604                     44                 40  \n605                     53                 49  \n606                     47                 44  \n607                     42                 41  \n\n[608 rows x 29 columns]",
            "text/html": "<div>\n<style scoped>\n    .dataframe tbody tr th:only-of-type {\n        vertical-align: middle;\n    }\n\n    .dataframe tbody tr th {\n        vertical-align: top;\n    }\n\n    .dataframe thead th {\n        text-align: right;\n    }\n</style>\n<table border=\"1\" class=\"dataframe\">\n  <thead>\n    <tr style=\"text-align: right;\">\n      <th></th>\n      <th>iso_code</th>\n      <th>Team</th>\n      <th>Conference</th>\n      <th>City</th>\n      <th>State</th>\n      <th>Year</th>\n      <th>Wins</th>\n      <th>Losses</th>\n      <th>Ties</th>\n      <th>Passing_Attempts</th>\n      <th>...</th>\n      <th>Receiving_Yards</th>\n      <th>Receiving_TDs</th>\n      <th>Reciever_Fumbles</th>\n      <th>Two_Point_Conversions</th>\n      <th>Kick_Return_TDs</th>\n      <th>Punt_Return_TDs</th>\n      <th>Field_Goals_Attempts</th>\n      <th>Field_Goals_Made</th>\n      <th>Extra_Points_Attempts</th>\n      <th>Extra_Points_Made</th>\n    </tr>\n  </thead>\n  <tbody>\n    <tr>\n      <th>0</th>\n      <td>BB</td>\n      <td>Buffalo Bills</td>\n      <td>AFC East</td>\n      <td>Buffalo</td>\n      <td>New York</td>\n      <td>2004</td>\n      <td>9</td>\n      <td>7</td>\n      <td>0</td>\n      <td>461</td>\n      <td>...</td>\n      <td>3032</td>\n      <td>21</td>\n      <td>4</td>\n      <td>0</td>\n      <td>3</td>\n      <td>2</td>\n      <td>28</td>\n      <td>24</td>\n      <td>45</td>\n      <td>45</td>\n    </tr>\n    <tr>\n      <th>1</th>\n      <td>BB</td>\n      <td>Buffalo Bills</td>\n      <td>AFC East</td>\n      <td>Buffalo</td>\n      <td>New York</td>\n      <td>2005</td>\n      <td>5</td>\n      <td>11</td>\n      <td>0</td>\n      <td>459</td>\n      <td>...</td>\n      <td>2852</td>\n      <td>18</td>\n      <td>1</td>\n      <td>0</td>\n      <td>1</td>\n      <td>0</td>\n      <td>35</td>\n      <td>29</td>\n      <td>26</td>\n      <td>26</td>\n    </tr>\n    <tr>\n      <th>2</th>\n      <td>BB</td>\n      <td>Buffalo Bills</td>\n      <td>AFC East</td>\n      <td>Buffalo</td>\n      <td>New York</td>\n      <td>2006</td>\n      <td>7</td>\n      <td>9</td>\n      <td>0</td>\n      <td>431</td>\n      <td>...</td>\n      <td>3051</td>\n      <td>19</td>\n      <td>3</td>\n      <td>0</td>\n      <td>0</td>\n      <td>1</td>\n      <td>25</td>\n      <td>23</td>\n      <td>33</td>\n      <td>33</td>\n    </tr>\n    <tr>\n      <th>3</th>\n      <td>BB</td>\n      <td>Buffalo Bills</td>\n      <td>AFC East</td>\n      <td>Buffalo</td>\n      <td>New York</td>\n      <td>2007</td>\n      <td>7</td>\n      <td>9</td>\n      <td>0</td>\n      <td>445</td>\n      <td>...</td>\n      <td>2842</td>\n      <td>12</td>\n      <td>4</td>\n      <td>1</td>\n      <td>1</td>\n      <td>1</td>\n      <td>27</td>\n      <td>24</td>\n      <td>24</td>\n      <td>24</td>\n    </tr>\n    <tr>\n      <th>4</th>\n      <td>BB</td>\n      <td>Buffalo Bills</td>\n      <td>AFC East</td>\n      <td>Buffalo</td>\n      <td>New York</td>\n      <td>2008</td>\n      <td>7</td>\n      <td>9</td>\n      <td>0</td>\n      <td>479</td>\n      <td>...</td>\n      <td>3302</td>\n      <td>14</td>\n      <td>7</td>\n      <td>1</td>\n      <td>1</td>\n      <td>1</td>\n      <td>38</td>\n      <td>30</td>\n      <td>34</td>\n      <td>34</td>\n    </tr>\n    <tr>\n      <th>...</th>\n      <td>...</td>\n      <td>...</td>\n      <td>...</td>\n      <td>...</td>\n      <td>...</td>\n      <td>...</td>\n      <td>...</td>\n      <td>...</td>\n      <td>...</td>\n      <td>...</td>\n      <td>...</td>\n      <td>...</td>\n      <td>...</td>\n      <td>...</td>\n      <td>...</td>\n      <td>...</td>\n      <td>...</td>\n      <td>...</td>\n      <td>...</td>\n      <td>...</td>\n      <td>...</td>\n    </tr>\n    <tr>\n      <th>603</th>\n      <td>SS</td>\n      <td>Seattle Seahawks</td>\n      <td>NFC West</td>\n      <td>Seattle</td>\n      <td>Washington</td>\n      <td>2018</td>\n      <td>10</td>\n      <td>6</td>\n      <td>0</td>\n      <td>427</td>\n      <td>...</td>\n      <td>3448</td>\n      <td>35</td>\n      <td>4</td>\n      <td>1</td>\n      <td>0</td>\n      <td>0</td>\n      <td>27</td>\n      <td>22</td>\n      <td>51</td>\n      <td>48</td>\n    </tr>\n    <tr>\n      <th>604</th>\n      <td>SS</td>\n      <td>Seattle Seahawks</td>\n      <td>NFC West</td>\n      <td>Seattle</td>\n      <td>Washington</td>\n      <td>2019</td>\n      <td>11</td>\n      <td>5</td>\n      <td>0</td>\n      <td>517</td>\n      <td>...</td>\n      <td>4110</td>\n      <td>31</td>\n      <td>8</td>\n      <td>1</td>\n      <td>0</td>\n      <td>0</td>\n      <td>28</td>\n      <td>23</td>\n      <td>44</td>\n      <td>40</td>\n    </tr>\n    <tr>\n      <th>605</th>\n      <td>SS</td>\n      <td>Seattle Seahawks</td>\n      <td>NFC West</td>\n      <td>Seattle</td>\n      <td>Washington</td>\n      <td>2020</td>\n      <td>12</td>\n      <td>4</td>\n      <td>0</td>\n      <td>563</td>\n      <td>...</td>\n      <td>4245</td>\n      <td>40</td>\n      <td>3</td>\n      <td>1</td>\n      <td>0</td>\n      <td>0</td>\n      <td>24</td>\n      <td>24</td>\n      <td>53</td>\n      <td>49</td>\n    </tr>\n    <tr>\n      <th>606</th>\n      <td>SS</td>\n      <td>Seattle Seahawks</td>\n      <td>NFC West</td>\n      <td>Seattle</td>\n      <td>Washington</td>\n      <td>2021</td>\n      <td>7</td>\n      <td>10</td>\n      <td>0</td>\n      <td>495</td>\n      <td>...</td>\n      <td>3815</td>\n      <td>30</td>\n      <td>11</td>\n      <td>1</td>\n      <td>1</td>\n      <td>0</td>\n      <td>23</td>\n      <td>17</td>\n      <td>47</td>\n      <td>44</td>\n    </tr>\n    <tr>\n      <th>607</th>\n      <td>SS</td>\n      <td>Seattle Seahawks</td>\n      <td>NFC West</td>\n      <td>Seattle</td>\n      <td>Washington</td>\n      <td>2022</td>\n      <td>9</td>\n      <td>8</td>\n      <td>0</td>\n      <td>573</td>\n      <td>...</td>\n      <td>4282</td>\n      <td>30</td>\n      <td>4</td>\n      <td>0</td>\n      <td>0</td>\n      <td>0</td>\n      <td>37</td>\n      <td>34</td>\n      <td>42</td>\n      <td>41</td>\n    </tr>\n  </tbody>\n</table>\n<p>608 rows × 29 columns</p>\n</div>"
          },
          "metadata": {}
        }
      ],
      "execution_count": 3,
      "metadata": {
        "jupyter": {
          "source_hidden": false,
          "outputs_hidden": false
        },
        "nteract": {
          "transient": {
            "deleting": false
          }
        },
        "gather": {
          "logged": 1703795590431
        }
      }
    },
    {
      "cell_type": "code",
      "source": [
        "offense = offense.drop([\"iso_code\", \"Conference\", \"City\", \"State\"], axis = 1)\n",
        "defense = defense.drop([\"iso_code\", \"Conference\", \"City\", \"State\", \"Wins\", \"Losses\", \"Ties\"], axis = 1)"
      ],
      "outputs": [],
      "execution_count": 4,
      "metadata": {
        "jupyter": {
          "source_hidden": false,
          "outputs_hidden": false
        },
        "nteract": {
          "transient": {
            "deleting": false
          }
        },
        "gather": {
          "logged": 1703795590625
        }
      }
    },
    {
      "cell_type": "code",
      "source": [
        "offense.columns"
      ],
      "outputs": [
        {
          "output_type": "execute_result",
          "execution_count": 5,
          "data": {
            "text/plain": "Index(['Team', 'Year', 'Wins', 'Losses', 'Ties', 'Passing_Attempts',\n       'Passing_Completions', 'Passing_Yards', 'Passing_TDs',\n       'Interceptions_Thrown', 'Rushing _Attempts', 'Rushing_Yards',\n       'Rushing_TDs', 'Rushing_Fumbles', 'Receptions', 'Receiving_Yards',\n       'Receiving_TDs', 'Reciever_Fumbles', 'Two_Point_Conversions',\n       'Kick_Return_TDs', 'Punt_Return_TDs', 'Field_Goals_Attempts',\n       'Field_Goals_Made', 'Extra_Points_Attempts', 'Extra_Points_Made'],\n      dtype='object')"
          },
          "metadata": {}
        }
      ],
      "execution_count": 5,
      "metadata": {
        "jupyter": {
          "source_hidden": false,
          "outputs_hidden": false
        },
        "nteract": {
          "transient": {
            "deleting": false
          }
        },
        "gather": {
          "logged": 1703795590811
        }
      }
    },
    {
      "cell_type": "code",
      "source": [
        "offense = offense.set_index([\"Team\", \"Year\"])\n",
        "defense = defense.set_index([\"Team\", \"Year\"])"
      ],
      "outputs": [],
      "execution_count": 6,
      "metadata": {
        "jupyter": {
          "source_hidden": false,
          "outputs_hidden": false
        },
        "nteract": {
          "transient": {
            "deleting": false
          }
        },
        "gather": {
          "logged": 1703795590981
        }
      }
    },
    {
      "cell_type": "code",
      "source": [
        "stats = pd.concat([offense, defense], axis = 1)"
      ],
      "outputs": [],
      "execution_count": 7,
      "metadata": {
        "jupyter": {
          "source_hidden": false,
          "outputs_hidden": false
        },
        "nteract": {
          "transient": {
            "deleting": false
          }
        },
        "gather": {
          "logged": 1703795591148
        }
      }
    },
    {
      "cell_type": "code",
      "source": [
        "stats"
      ],
      "outputs": [
        {
          "output_type": "execute_result",
          "execution_count": 8,
          "data": {
            "text/plain": "                       Wins  Losses  Ties  Passing_Attempts  \\\nTeam             Year                                         \nBuffalo Bills    2004     9       7     0               461   \n                 2005     5      11     0               459   \n                 2006     7       9     0               431   \n                 2007     7       9     0               445   \n                 2008     7       9     0               479   \n...                     ...     ...   ...               ...   \nSeattle Seahawks 2018    10       6     0               427   \n                 2019    11       5     0               517   \n                 2020    12       4     0               563   \n                 2021     7      10     0               495   \n                 2022     9       8     0               573   \n\n                       Passing_Completions  Passing_Yards  Passing_TDs  \\\nTeam             Year                                                    \nBuffalo Bills    2004                  262           3032           21   \n                 2005                  269           2852           18   \n                 2006                  268           3051           19   \n                 2007                  263           2842           12   \n                 2008                  309           3302           14   \n...                                    ...            ...          ...   \nSeattle Seahawks 2018                  280           3448           35   \n                 2019                  341           4110           31   \n                 2020                  388           4245           40   \n                 2021                  324           3815           30   \n                 2022                  399           4282           30   \n\n                       Interceptions_Thrown  Rushing _Attempts  Rushing_Yards  \\\nTeam             Year                                                           \nBuffalo Bills    2004                    17                483           1874   \n                 2005                    16                428           1607   \n                 2006                    14                420           1552   \n                 2007                    14                448           1800   \n                 2008                    15                439           1842   \n...                                     ...                ...            ...   \nSeattle Seahawks 2018                     7                534           2560   \n                 2019                     6                481           2200   \n                 2020                    13                411           1971   \n                 2021                     7                413           2074   \n                 2022                    12                425           2042   \n\n                       ...  Assisted_Tackles  Sacks  Tackles_For_Loss  \\\nTeam             Year  ...                                              \nBuffalo Bills    2004  ...               377     45               0.0   \n                 2005  ...               357     38               0.0   \n                 2006  ...               368     40               0.0   \n                 2007  ...               262     26               0.0   \n                 2008  ...               227     24               0.0   \n...                    ...               ...    ...               ...   \nSeattle Seahawks 2018  ...               260     43              81.5   \n                 2019  ...               390     28              71.5   \n                 2020  ...               329     46             102.0   \n                 2021  ...               536     34              68.0   \n                 2022  ...               417     45              75.0   \n\n                       Pass_Deflections  Interceptions  Interception_TDs  \\\nTeam             Year                                                      \nBuffalo Bills    2004               225             24                 4   \n                 2005               189             17                 1   \n                 2006               189             13                 2   \n                 2007                80             18                 2   \n                 2008                73             10                 3   \n...                                 ...            ...               ...   \nSeattle Seahawks 2018                60             12                 1   \n                 2019                74             16                 2   \n                 2020                79             14                 0   \n                 2021                80             11                 0   \n                 2022                81             14                 1   \n\n                       Forced_Fumbles  Fumbles_Recovered  Fumble__TDs  \\\nTeam             Year                                                   \nBuffalo Bills    2004              21                  0            0   \n                 2005              16                  0            0   \n                 2006              17                  0            2   \n                 2007              12                  0            1   \n                 2008              15                  0            0   \n...                               ...                ...          ...   \nSeattle Seahawks 2018              21                 14            1   \n                 2019              19                 16            1   \n                 2020              14                  8            0   \n                 2021              11                  7            0   \n                 2022              21                 11            0   \n\n                       Kicks_Blocked  \nTeam             Year                 \nBuffalo Bills    2004              1  \n                 2005              0  \n                 2006              1  \n                 2007              0  \n                 2008              1  \n...                              ...  \nSeattle Seahawks 2018              1  \n                 2019              3  \n                 2020              2  \n                 2021              1  \n                 2022              1  \n\n[608 rows x 34 columns]",
            "text/html": "<div>\n<style scoped>\n    .dataframe tbody tr th:only-of-type {\n        vertical-align: middle;\n    }\n\n    .dataframe tbody tr th {\n        vertical-align: top;\n    }\n\n    .dataframe thead th {\n        text-align: right;\n    }\n</style>\n<table border=\"1\" class=\"dataframe\">\n  <thead>\n    <tr style=\"text-align: right;\">\n      <th></th>\n      <th></th>\n      <th>Wins</th>\n      <th>Losses</th>\n      <th>Ties</th>\n      <th>Passing_Attempts</th>\n      <th>Passing_Completions</th>\n      <th>Passing_Yards</th>\n      <th>Passing_TDs</th>\n      <th>Interceptions_Thrown</th>\n      <th>Rushing _Attempts</th>\n      <th>Rushing_Yards</th>\n      <th>...</th>\n      <th>Assisted_Tackles</th>\n      <th>Sacks</th>\n      <th>Tackles_For_Loss</th>\n      <th>Pass_Deflections</th>\n      <th>Interceptions</th>\n      <th>Interception_TDs</th>\n      <th>Forced_Fumbles</th>\n      <th>Fumbles_Recovered</th>\n      <th>Fumble__TDs</th>\n      <th>Kicks_Blocked</th>\n    </tr>\n    <tr>\n      <th>Team</th>\n      <th>Year</th>\n      <th></th>\n      <th></th>\n      <th></th>\n      <th></th>\n      <th></th>\n      <th></th>\n      <th></th>\n      <th></th>\n      <th></th>\n      <th></th>\n      <th></th>\n      <th></th>\n      <th></th>\n      <th></th>\n      <th></th>\n      <th></th>\n      <th></th>\n      <th></th>\n      <th></th>\n      <th></th>\n      <th></th>\n    </tr>\n  </thead>\n  <tbody>\n    <tr>\n      <th rowspan=\"5\" valign=\"top\">Buffalo Bills</th>\n      <th>2004</th>\n      <td>9</td>\n      <td>7</td>\n      <td>0</td>\n      <td>461</td>\n      <td>262</td>\n      <td>3032</td>\n      <td>21</td>\n      <td>17</td>\n      <td>483</td>\n      <td>1874</td>\n      <td>...</td>\n      <td>377</td>\n      <td>45</td>\n      <td>0.0</td>\n      <td>225</td>\n      <td>24</td>\n      <td>4</td>\n      <td>21</td>\n      <td>0</td>\n      <td>0</td>\n      <td>1</td>\n    </tr>\n    <tr>\n      <th>2005</th>\n      <td>5</td>\n      <td>11</td>\n      <td>0</td>\n      <td>459</td>\n      <td>269</td>\n      <td>2852</td>\n      <td>18</td>\n      <td>16</td>\n      <td>428</td>\n      <td>1607</td>\n      <td>...</td>\n      <td>357</td>\n      <td>38</td>\n      <td>0.0</td>\n      <td>189</td>\n      <td>17</td>\n      <td>1</td>\n      <td>16</td>\n      <td>0</td>\n      <td>0</td>\n      <td>0</td>\n    </tr>\n    <tr>\n      <th>2006</th>\n      <td>7</td>\n      <td>9</td>\n      <td>0</td>\n      <td>431</td>\n      <td>268</td>\n      <td>3051</td>\n      <td>19</td>\n      <td>14</td>\n      <td>420</td>\n      <td>1552</td>\n      <td>...</td>\n      <td>368</td>\n      <td>40</td>\n      <td>0.0</td>\n      <td>189</td>\n      <td>13</td>\n      <td>2</td>\n      <td>17</td>\n      <td>0</td>\n      <td>2</td>\n      <td>1</td>\n    </tr>\n    <tr>\n      <th>2007</th>\n      <td>7</td>\n      <td>9</td>\n      <td>0</td>\n      <td>445</td>\n      <td>263</td>\n      <td>2842</td>\n      <td>12</td>\n      <td>14</td>\n      <td>448</td>\n      <td>1800</td>\n      <td>...</td>\n      <td>262</td>\n      <td>26</td>\n      <td>0.0</td>\n      <td>80</td>\n      <td>18</td>\n      <td>2</td>\n      <td>12</td>\n      <td>0</td>\n      <td>1</td>\n      <td>0</td>\n    </tr>\n    <tr>\n      <th>2008</th>\n      <td>7</td>\n      <td>9</td>\n      <td>0</td>\n      <td>479</td>\n      <td>309</td>\n      <td>3302</td>\n      <td>14</td>\n      <td>15</td>\n      <td>439</td>\n      <td>1842</td>\n      <td>...</td>\n      <td>227</td>\n      <td>24</td>\n      <td>0.0</td>\n      <td>73</td>\n      <td>10</td>\n      <td>3</td>\n      <td>15</td>\n      <td>0</td>\n      <td>0</td>\n      <td>1</td>\n    </tr>\n    <tr>\n      <th>...</th>\n      <th>...</th>\n      <td>...</td>\n      <td>...</td>\n      <td>...</td>\n      <td>...</td>\n      <td>...</td>\n      <td>...</td>\n      <td>...</td>\n      <td>...</td>\n      <td>...</td>\n      <td>...</td>\n      <td>...</td>\n      <td>...</td>\n      <td>...</td>\n      <td>...</td>\n      <td>...</td>\n      <td>...</td>\n      <td>...</td>\n      <td>...</td>\n      <td>...</td>\n      <td>...</td>\n      <td>...</td>\n    </tr>\n    <tr>\n      <th rowspan=\"5\" valign=\"top\">Seattle Seahawks</th>\n      <th>2018</th>\n      <td>10</td>\n      <td>6</td>\n      <td>0</td>\n      <td>427</td>\n      <td>280</td>\n      <td>3448</td>\n      <td>35</td>\n      <td>7</td>\n      <td>534</td>\n      <td>2560</td>\n      <td>...</td>\n      <td>260</td>\n      <td>43</td>\n      <td>81.5</td>\n      <td>60</td>\n      <td>12</td>\n      <td>1</td>\n      <td>21</td>\n      <td>14</td>\n      <td>1</td>\n      <td>1</td>\n    </tr>\n    <tr>\n      <th>2019</th>\n      <td>11</td>\n      <td>5</td>\n      <td>0</td>\n      <td>517</td>\n      <td>341</td>\n      <td>4110</td>\n      <td>31</td>\n      <td>6</td>\n      <td>481</td>\n      <td>2200</td>\n      <td>...</td>\n      <td>390</td>\n      <td>28</td>\n      <td>71.5</td>\n      <td>74</td>\n      <td>16</td>\n      <td>2</td>\n      <td>19</td>\n      <td>16</td>\n      <td>1</td>\n      <td>3</td>\n    </tr>\n    <tr>\n      <th>2020</th>\n      <td>12</td>\n      <td>4</td>\n      <td>0</td>\n      <td>563</td>\n      <td>388</td>\n      <td>4245</td>\n      <td>40</td>\n      <td>13</td>\n      <td>411</td>\n      <td>1971</td>\n      <td>...</td>\n      <td>329</td>\n      <td>46</td>\n      <td>102.0</td>\n      <td>79</td>\n      <td>14</td>\n      <td>0</td>\n      <td>14</td>\n      <td>8</td>\n      <td>0</td>\n      <td>2</td>\n    </tr>\n    <tr>\n      <th>2021</th>\n      <td>7</td>\n      <td>10</td>\n      <td>0</td>\n      <td>495</td>\n      <td>324</td>\n      <td>3815</td>\n      <td>30</td>\n      <td>7</td>\n      <td>413</td>\n      <td>2074</td>\n      <td>...</td>\n      <td>536</td>\n      <td>34</td>\n      <td>68.0</td>\n      <td>80</td>\n      <td>11</td>\n      <td>0</td>\n      <td>11</td>\n      <td>7</td>\n      <td>0</td>\n      <td>1</td>\n    </tr>\n    <tr>\n      <th>2022</th>\n      <td>9</td>\n      <td>8</td>\n      <td>0</td>\n      <td>573</td>\n      <td>399</td>\n      <td>4282</td>\n      <td>30</td>\n      <td>12</td>\n      <td>425</td>\n      <td>2042</td>\n      <td>...</td>\n      <td>417</td>\n      <td>45</td>\n      <td>75.0</td>\n      <td>81</td>\n      <td>14</td>\n      <td>1</td>\n      <td>21</td>\n      <td>11</td>\n      <td>0</td>\n      <td>1</td>\n    </tr>\n  </tbody>\n</table>\n<p>608 rows × 34 columns</p>\n</div>"
          },
          "metadata": {}
        }
      ],
      "execution_count": 8,
      "metadata": {
        "jupyter": {
          "source_hidden": false,
          "outputs_hidden": false
        },
        "nteract": {
          "transient": {
            "deleting": false
          }
        },
        "gather": {
          "logged": 1703795591405
        }
      }
    },
    {
      "cell_type": "code",
      "source": [
        "win_loss = pd.read_csv(\"../data/raw/nfl_win_loss.csv\")\n",
        "win_loss"
      ],
      "outputs": [
        {
          "output_type": "execute_result",
          "execution_count": 11,
          "data": {
            "text/plain": "           date      away     home  first_downs_away  first_downs_home  \\\n0      9/5/2002     49ers   Giants                13                21   \n1      9/8/2002      Jets    Bills                18                26   \n2      9/8/2002   Vikings    Bears                19                20   \n3      9/8/2002  Chargers  Bengals                27                13   \n4      9/8/2002    Chiefs   Browns                24                24   \n...         ...       ...      ...               ...               ...   \n5636  1/22/2023   Bengals    Bills                30                19   \n5637  1/22/2023   Cowboys    49ers                15                21   \n5638  1/29/2023     49ers   Eagles                11                25   \n5639  1/29/2023   Bengals   Chiefs                18                23   \n5640  2/12/2023    Chiefs   Eagles                21                25   \n\n     third_downs_away third_downs_home fourth_downs_away fourth_downs_home  \\\n0              12-Apr           16-Sep               0-0               0-1   \n1               8-Feb           17-Jul               0-0             2-Feb   \n2              13-May           13-Jul               0-0               0-0   \n3              10-Jun           11-Apr               0-0               0-0   \n4              11-May           11-Apr               0-0               0-0   \n...               ...              ...               ...               ...   \n5636           10-Jun           12-May               0-0             2-Jan   \n5637           15-May           14-Jul             2-Feb               0-0   \n5638            8-Feb           15-May               0-2             3-Mar   \n5639           14-Jun           14-Jul             1-Jan             1-Jan   \n5640            8-Apr           18-Nov               0-0             2-Feb   \n\n      passing_yards_away  ...  redzone_away  redzone_home  drives_away  \\\n0                    166  ...           0-8           0-6           13   \n1                    193  ...           0-9           0-8           17   \n2                    228  ...           0-7           0-6           17   \n3                    160  ...           0-7           0-5           11   \n4                    276  ...          0-10          0-10           20   \n...                  ...  ...           ...           ...          ...   \n5636                 240  ...         4-Feb         3-Jan            9   \n5637                 206  ...         3-Jan         3-Jan           10   \n5638                  83  ...           0-0         6-Apr           10   \n5639                 238  ...         3-Jan         3-Feb           11   \n5640                 182  ...         5-Apr         5-Mar            8   \n\n      drives_home  def_st_td_away def_st_td_home possession_away  \\\n0              15               0              0        27:32:00   \n1              18               2              0           21:06   \n2              17               0              0        31:31:00   \n3              15               0              0        37:48:00   \n4              17               0              0        30:16:00   \n...           ...             ...            ...             ...   \n5636            8               0              0        33:54:00   \n5637            9               0              0        27:07:00   \n5638           10               0              0           22:34   \n5639           10               0              0        27:09:00   \n5640           10               1              0        24:13:00   \n\n     possession_home score_away  score_home  \n0           32:28:00         16          13  \n1           39:08:00         37          31  \n2           28:29:00         23          27  \n3              22:12         34           6  \n4           29:44:00         40          39  \n...              ...        ...         ...  \n5636        26:06:00         27          10  \n5637        32:53:00         12          19  \n5638        37:26:00          7          31  \n5639        32:51:00         20          23  \n5640        35:47:00         38          35  \n\n[5641 rows x 39 columns]",
            "text/html": "<div>\n<style scoped>\n    .dataframe tbody tr th:only-of-type {\n        vertical-align: middle;\n    }\n\n    .dataframe tbody tr th {\n        vertical-align: top;\n    }\n\n    .dataframe thead th {\n        text-align: right;\n    }\n</style>\n<table border=\"1\" class=\"dataframe\">\n  <thead>\n    <tr style=\"text-align: right;\">\n      <th></th>\n      <th>date</th>\n      <th>away</th>\n      <th>home</th>\n      <th>first_downs_away</th>\n      <th>first_downs_home</th>\n      <th>third_downs_away</th>\n      <th>third_downs_home</th>\n      <th>fourth_downs_away</th>\n      <th>fourth_downs_home</th>\n      <th>passing_yards_away</th>\n      <th>...</th>\n      <th>redzone_away</th>\n      <th>redzone_home</th>\n      <th>drives_away</th>\n      <th>drives_home</th>\n      <th>def_st_td_away</th>\n      <th>def_st_td_home</th>\n      <th>possession_away</th>\n      <th>possession_home</th>\n      <th>score_away</th>\n      <th>score_home</th>\n    </tr>\n  </thead>\n  <tbody>\n    <tr>\n      <th>0</th>\n      <td>9/5/2002</td>\n      <td>49ers</td>\n      <td>Giants</td>\n      <td>13</td>\n      <td>21</td>\n      <td>12-Apr</td>\n      <td>16-Sep</td>\n      <td>0-0</td>\n      <td>0-1</td>\n      <td>166</td>\n      <td>...</td>\n      <td>0-8</td>\n      <td>0-6</td>\n      <td>13</td>\n      <td>15</td>\n      <td>0</td>\n      <td>0</td>\n      <td>27:32:00</td>\n      <td>32:28:00</td>\n      <td>16</td>\n      <td>13</td>\n    </tr>\n    <tr>\n      <th>1</th>\n      <td>9/8/2002</td>\n      <td>Jets</td>\n      <td>Bills</td>\n      <td>18</td>\n      <td>26</td>\n      <td>8-Feb</td>\n      <td>17-Jul</td>\n      <td>0-0</td>\n      <td>2-Feb</td>\n      <td>193</td>\n      <td>...</td>\n      <td>0-9</td>\n      <td>0-8</td>\n      <td>17</td>\n      <td>18</td>\n      <td>2</td>\n      <td>0</td>\n      <td>21:06</td>\n      <td>39:08:00</td>\n      <td>37</td>\n      <td>31</td>\n    </tr>\n    <tr>\n      <th>2</th>\n      <td>9/8/2002</td>\n      <td>Vikings</td>\n      <td>Bears</td>\n      <td>19</td>\n      <td>20</td>\n      <td>13-May</td>\n      <td>13-Jul</td>\n      <td>0-0</td>\n      <td>0-0</td>\n      <td>228</td>\n      <td>...</td>\n      <td>0-7</td>\n      <td>0-6</td>\n      <td>17</td>\n      <td>17</td>\n      <td>0</td>\n      <td>0</td>\n      <td>31:31:00</td>\n      <td>28:29:00</td>\n      <td>23</td>\n      <td>27</td>\n    </tr>\n    <tr>\n      <th>3</th>\n      <td>9/8/2002</td>\n      <td>Chargers</td>\n      <td>Bengals</td>\n      <td>27</td>\n      <td>13</td>\n      <td>10-Jun</td>\n      <td>11-Apr</td>\n      <td>0-0</td>\n      <td>0-0</td>\n      <td>160</td>\n      <td>...</td>\n      <td>0-7</td>\n      <td>0-5</td>\n      <td>11</td>\n      <td>15</td>\n      <td>0</td>\n      <td>0</td>\n      <td>37:48:00</td>\n      <td>22:12</td>\n      <td>34</td>\n      <td>6</td>\n    </tr>\n    <tr>\n      <th>4</th>\n      <td>9/8/2002</td>\n      <td>Chiefs</td>\n      <td>Browns</td>\n      <td>24</td>\n      <td>24</td>\n      <td>11-May</td>\n      <td>11-Apr</td>\n      <td>0-0</td>\n      <td>0-0</td>\n      <td>276</td>\n      <td>...</td>\n      <td>0-10</td>\n      <td>0-10</td>\n      <td>20</td>\n      <td>17</td>\n      <td>0</td>\n      <td>0</td>\n      <td>30:16:00</td>\n      <td>29:44:00</td>\n      <td>40</td>\n      <td>39</td>\n    </tr>\n    <tr>\n      <th>...</th>\n      <td>...</td>\n      <td>...</td>\n      <td>...</td>\n      <td>...</td>\n      <td>...</td>\n      <td>...</td>\n      <td>...</td>\n      <td>...</td>\n      <td>...</td>\n      <td>...</td>\n      <td>...</td>\n      <td>...</td>\n      <td>...</td>\n      <td>...</td>\n      <td>...</td>\n      <td>...</td>\n      <td>...</td>\n      <td>...</td>\n      <td>...</td>\n      <td>...</td>\n      <td>...</td>\n    </tr>\n    <tr>\n      <th>5636</th>\n      <td>1/22/2023</td>\n      <td>Bengals</td>\n      <td>Bills</td>\n      <td>30</td>\n      <td>19</td>\n      <td>10-Jun</td>\n      <td>12-May</td>\n      <td>0-0</td>\n      <td>2-Jan</td>\n      <td>240</td>\n      <td>...</td>\n      <td>4-Feb</td>\n      <td>3-Jan</td>\n      <td>9</td>\n      <td>8</td>\n      <td>0</td>\n      <td>0</td>\n      <td>33:54:00</td>\n      <td>26:06:00</td>\n      <td>27</td>\n      <td>10</td>\n    </tr>\n    <tr>\n      <th>5637</th>\n      <td>1/22/2023</td>\n      <td>Cowboys</td>\n      <td>49ers</td>\n      <td>15</td>\n      <td>21</td>\n      <td>15-May</td>\n      <td>14-Jul</td>\n      <td>2-Feb</td>\n      <td>0-0</td>\n      <td>206</td>\n      <td>...</td>\n      <td>3-Jan</td>\n      <td>3-Jan</td>\n      <td>10</td>\n      <td>9</td>\n      <td>0</td>\n      <td>0</td>\n      <td>27:07:00</td>\n      <td>32:53:00</td>\n      <td>12</td>\n      <td>19</td>\n    </tr>\n    <tr>\n      <th>5638</th>\n      <td>1/29/2023</td>\n      <td>49ers</td>\n      <td>Eagles</td>\n      <td>11</td>\n      <td>25</td>\n      <td>8-Feb</td>\n      <td>15-May</td>\n      <td>0-2</td>\n      <td>3-Mar</td>\n      <td>83</td>\n      <td>...</td>\n      <td>0-0</td>\n      <td>6-Apr</td>\n      <td>10</td>\n      <td>10</td>\n      <td>0</td>\n      <td>0</td>\n      <td>22:34</td>\n      <td>37:26:00</td>\n      <td>7</td>\n      <td>31</td>\n    </tr>\n    <tr>\n      <th>5639</th>\n      <td>1/29/2023</td>\n      <td>Bengals</td>\n      <td>Chiefs</td>\n      <td>18</td>\n      <td>23</td>\n      <td>14-Jun</td>\n      <td>14-Jul</td>\n      <td>1-Jan</td>\n      <td>1-Jan</td>\n      <td>238</td>\n      <td>...</td>\n      <td>3-Jan</td>\n      <td>3-Feb</td>\n      <td>11</td>\n      <td>10</td>\n      <td>0</td>\n      <td>0</td>\n      <td>27:09:00</td>\n      <td>32:51:00</td>\n      <td>20</td>\n      <td>23</td>\n    </tr>\n    <tr>\n      <th>5640</th>\n      <td>2/12/2023</td>\n      <td>Chiefs</td>\n      <td>Eagles</td>\n      <td>21</td>\n      <td>25</td>\n      <td>8-Apr</td>\n      <td>18-Nov</td>\n      <td>0-0</td>\n      <td>2-Feb</td>\n      <td>182</td>\n      <td>...</td>\n      <td>5-Apr</td>\n      <td>5-Mar</td>\n      <td>8</td>\n      <td>10</td>\n      <td>1</td>\n      <td>0</td>\n      <td>24:13:00</td>\n      <td>35:47:00</td>\n      <td>38</td>\n      <td>35</td>\n    </tr>\n  </tbody>\n</table>\n<p>5641 rows × 39 columns</p>\n</div>"
          },
          "metadata": {}
        }
      ],
      "execution_count": 11,
      "metadata": {
        "jupyter": {
          "source_hidden": false,
          "outputs_hidden": false
        },
        "nteract": {
          "transient": {
            "deleting": false
          }
        },
        "gather": {
          "logged": 1703795601481
        }
      }
    },
    {
      "cell_type": "code",
      "source": [
        "win_loss = win_loss[[\"date\",\"away\", \"home\", \"score_away\", \"score_home\"]]"
      ],
      "outputs": [],
      "execution_count": 13,
      "metadata": {
        "jupyter": {
          "source_hidden": false,
          "outputs_hidden": false
        },
        "nteract": {
          "transient": {
            "deleting": false
          }
        },
        "gather": {
          "logged": 1703795627975
        }
      }
    },
    {
      "cell_type": "code",
      "source": [
        "win_loss"
      ],
      "outputs": [
        {
          "output_type": "execute_result",
          "execution_count": 14,
          "data": {
            "text/plain": "           date      away     home  score_away  score_home\n0      9/5/2002     49ers   Giants          16          13\n1      9/8/2002      Jets    Bills          37          31\n2      9/8/2002   Vikings    Bears          23          27\n3      9/8/2002  Chargers  Bengals          34           6\n4      9/8/2002    Chiefs   Browns          40          39\n...         ...       ...      ...         ...         ...\n5636  1/22/2023   Bengals    Bills          27          10\n5637  1/22/2023   Cowboys    49ers          12          19\n5638  1/29/2023     49ers   Eagles           7          31\n5639  1/29/2023   Bengals   Chiefs          20          23\n5640  2/12/2023    Chiefs   Eagles          38          35\n\n[5641 rows x 5 columns]",
            "text/html": "<div>\n<style scoped>\n    .dataframe tbody tr th:only-of-type {\n        vertical-align: middle;\n    }\n\n    .dataframe tbody tr th {\n        vertical-align: top;\n    }\n\n    .dataframe thead th {\n        text-align: right;\n    }\n</style>\n<table border=\"1\" class=\"dataframe\">\n  <thead>\n    <tr style=\"text-align: right;\">\n      <th></th>\n      <th>date</th>\n      <th>away</th>\n      <th>home</th>\n      <th>score_away</th>\n      <th>score_home</th>\n    </tr>\n  </thead>\n  <tbody>\n    <tr>\n      <th>0</th>\n      <td>9/5/2002</td>\n      <td>49ers</td>\n      <td>Giants</td>\n      <td>16</td>\n      <td>13</td>\n    </tr>\n    <tr>\n      <th>1</th>\n      <td>9/8/2002</td>\n      <td>Jets</td>\n      <td>Bills</td>\n      <td>37</td>\n      <td>31</td>\n    </tr>\n    <tr>\n      <th>2</th>\n      <td>9/8/2002</td>\n      <td>Vikings</td>\n      <td>Bears</td>\n      <td>23</td>\n      <td>27</td>\n    </tr>\n    <tr>\n      <th>3</th>\n      <td>9/8/2002</td>\n      <td>Chargers</td>\n      <td>Bengals</td>\n      <td>34</td>\n      <td>6</td>\n    </tr>\n    <tr>\n      <th>4</th>\n      <td>9/8/2002</td>\n      <td>Chiefs</td>\n      <td>Browns</td>\n      <td>40</td>\n      <td>39</td>\n    </tr>\n    <tr>\n      <th>...</th>\n      <td>...</td>\n      <td>...</td>\n      <td>...</td>\n      <td>...</td>\n      <td>...</td>\n    </tr>\n    <tr>\n      <th>5636</th>\n      <td>1/22/2023</td>\n      <td>Bengals</td>\n      <td>Bills</td>\n      <td>27</td>\n      <td>10</td>\n    </tr>\n    <tr>\n      <th>5637</th>\n      <td>1/22/2023</td>\n      <td>Cowboys</td>\n      <td>49ers</td>\n      <td>12</td>\n      <td>19</td>\n    </tr>\n    <tr>\n      <th>5638</th>\n      <td>1/29/2023</td>\n      <td>49ers</td>\n      <td>Eagles</td>\n      <td>7</td>\n      <td>31</td>\n    </tr>\n    <tr>\n      <th>5639</th>\n      <td>1/29/2023</td>\n      <td>Bengals</td>\n      <td>Chiefs</td>\n      <td>20</td>\n      <td>23</td>\n    </tr>\n    <tr>\n      <th>5640</th>\n      <td>2/12/2023</td>\n      <td>Chiefs</td>\n      <td>Eagles</td>\n      <td>38</td>\n      <td>35</td>\n    </tr>\n  </tbody>\n</table>\n<p>5641 rows × 5 columns</p>\n</div>"
          },
          "metadata": {}
        }
      ],
      "execution_count": 14,
      "metadata": {
        "jupyter": {
          "source_hidden": false,
          "outputs_hidden": false
        },
        "nteract": {
          "transient": {
            "deleting": false
          }
        },
        "gather": {
          "logged": 1703795630401
        }
      }
    },
    {
      "cell_type": "code",
      "source": [],
      "outputs": [],
      "execution_count": null,
      "metadata": {
        "jupyter": {
          "source_hidden": false,
          "outputs_hidden": false
        },
        "nteract": {
          "transient": {
            "deleting": false
          }
        }
      }
    }
  ],
  "metadata": {
    "kernelspec": {
      "name": "python310-sdkv2",
      "language": "python",
      "display_name": "Python 3.10 - SDK v2"
    },
    "language_info": {
      "name": "python",
      "version": "3.10.11",
      "mimetype": "text/x-python",
      "codemirror_mode": {
        "name": "ipython",
        "version": 3
      },
      "pygments_lexer": "ipython3",
      "nbconvert_exporter": "python",
      "file_extension": ".py"
    },
    "microsoft": {
      "ms_spell_check": {
        "ms_spell_check_language": "en"
      }
    },
    "kernel_info": {
      "name": "python310-sdkv2"
    },
    "nteract": {
      "version": "nteract-front-end@1.0.0"
    }
  },
  "nbformat": 4,
  "nbformat_minor": 2
}