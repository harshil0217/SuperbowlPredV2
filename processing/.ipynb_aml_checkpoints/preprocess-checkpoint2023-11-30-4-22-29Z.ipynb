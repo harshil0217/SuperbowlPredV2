{
  "cells": [
    {
      "cell_type": "code",
      "source": [
        "import pandas as pd\n",
        "import numpy as np\n",
        "from utils import filter_out_postseason\n",
        "from utils import simplify_date\n",
        "from utils import generate_opponent_wins\n",
        "from utils import team_map"
      ],
      "outputs": [],
      "execution_count": 1,
      "metadata": {
        "gather": {
          "logged": 1703908836213
        }
      }
    },
    {
      "cell_type": "code",
      "source": [
        "offense = pd.read_csv(\"../data/raw/NFLRegSeasonOffenseStats.csv\")\n",
        "defense = pd.read_csv(\"../data/raw/NFLRegSeasonDefenseStats.csv\")"
      ],
      "outputs": [],
      "execution_count": 2,
      "metadata": {
        "gather": {
          "logged": 1703908836514
        },
        "jupyter": {
          "outputs_hidden": false,
          "source_hidden": false
        },
        "nteract": {
          "transient": {
            "deleting": false
          }
        }
      }
    },
    {
      "cell_type": "code",
      "source": [
        "offense"
      ],
      "outputs": [
        {
          "output_type": "execute_result",
          "execution_count": 3,
          "data": {
            "text/plain": "    iso_code              Team Conference     City       State  Year  Wins  \\\n0         BB     Buffalo Bills   AFC East  Buffalo    New York  2004     9   \n1         BB     Buffalo Bills   AFC East  Buffalo    New York  2005     5   \n2         BB     Buffalo Bills   AFC East  Buffalo    New York  2006     7   \n3         BB     Buffalo Bills   AFC East  Buffalo    New York  2007     7   \n4         BB     Buffalo Bills   AFC East  Buffalo    New York  2008     7   \n..       ...               ...        ...      ...         ...   ...   ...   \n603       SS  Seattle Seahawks   NFC West  Seattle  Washington  2018    10   \n604       SS  Seattle Seahawks   NFC West  Seattle  Washington  2019    11   \n605       SS  Seattle Seahawks   NFC West  Seattle  Washington  2020    12   \n606       SS  Seattle Seahawks   NFC West  Seattle  Washington  2021     7   \n607       SS  Seattle Seahawks   NFC West  Seattle  Washington  2022     9   \n\n     Losses  Ties  Passing_Attempts  ...  Receiving_Yards  Receiving_TDs  \\\n0         7     0               461  ...             3032             21   \n1        11     0               459  ...             2852             18   \n2         9     0               431  ...             3051             19   \n3         9     0               445  ...             2842             12   \n4         9     0               479  ...             3302             14   \n..      ...   ...               ...  ...              ...            ...   \n603       6     0               427  ...             3448             35   \n604       5     0               517  ...             4110             31   \n605       4     0               563  ...             4245             40   \n606      10     0               495  ...             3815             30   \n607       8     0               573  ...             4282             30   \n\n     Reciever_Fumbles  Two_Point_Conversions  Kick_Return_TDs  \\\n0                   4                      0                3   \n1                   1                      0                1   \n2                   3                      0                0   \n3                   4                      1                1   \n4                   7                      1                1   \n..                ...                    ...              ...   \n603                 4                      1                0   \n604                 8                      1                0   \n605                 3                      1                0   \n606                11                      1                1   \n607                 4                      0                0   \n\n     Punt_Return_TDs  Field_Goals_Attempts  Field_Goals_Made  \\\n0                  2                    28                24   \n1                  0                    35                29   \n2                  1                    25                23   \n3                  1                    27                24   \n4                  1                    38                30   \n..               ...                   ...               ...   \n603                0                    27                22   \n604                0                    28                23   \n605                0                    24                24   \n606                0                    23                17   \n607                0                    37                34   \n\n     Extra_Points_Attempts  Extra_Points_Made  \n0                       45                 45  \n1                       26                 26  \n2                       33                 33  \n3                       24                 24  \n4                       34                 34  \n..                     ...                ...  \n603                     51                 48  \n604                     44                 40  \n605                     53                 49  \n606                     47                 44  \n607                     42                 41  \n\n[608 rows x 29 columns]",
            "text/html": "<div>\n<style scoped>\n    .dataframe tbody tr th:only-of-type {\n        vertical-align: middle;\n    }\n\n    .dataframe tbody tr th {\n        vertical-align: top;\n    }\n\n    .dataframe thead th {\n        text-align: right;\n    }\n</style>\n<table border=\"1\" class=\"dataframe\">\n  <thead>\n    <tr style=\"text-align: right;\">\n      <th></th>\n      <th>iso_code</th>\n      <th>Team</th>\n      <th>Conference</th>\n      <th>City</th>\n      <th>State</th>\n      <th>Year</th>\n      <th>Wins</th>\n      <th>Losses</th>\n      <th>Ties</th>\n      <th>Passing_Attempts</th>\n      <th>...</th>\n      <th>Receiving_Yards</th>\n      <th>Receiving_TDs</th>\n      <th>Reciever_Fumbles</th>\n      <th>Two_Point_Conversions</th>\n      <th>Kick_Return_TDs</th>\n      <th>Punt_Return_TDs</th>\n      <th>Field_Goals_Attempts</th>\n      <th>Field_Goals_Made</th>\n      <th>Extra_Points_Attempts</th>\n      <th>Extra_Points_Made</th>\n    </tr>\n  </thead>\n  <tbody>\n    <tr>\n      <th>0</th>\n      <td>BB</td>\n      <td>Buffalo Bills</td>\n      <td>AFC East</td>\n      <td>Buffalo</td>\n      <td>New York</td>\n      <td>2004</td>\n      <td>9</td>\n      <td>7</td>\n      <td>0</td>\n      <td>461</td>\n      <td>...</td>\n      <td>3032</td>\n      <td>21</td>\n      <td>4</td>\n      <td>0</td>\n      <td>3</td>\n      <td>2</td>\n      <td>28</td>\n      <td>24</td>\n      <td>45</td>\n      <td>45</td>\n    </tr>\n    <tr>\n      <th>1</th>\n      <td>BB</td>\n      <td>Buffalo Bills</td>\n      <td>AFC East</td>\n      <td>Buffalo</td>\n      <td>New York</td>\n      <td>2005</td>\n      <td>5</td>\n      <td>11</td>\n      <td>0</td>\n      <td>459</td>\n      <td>...</td>\n      <td>2852</td>\n      <td>18</td>\n      <td>1</td>\n      <td>0</td>\n      <td>1</td>\n      <td>0</td>\n      <td>35</td>\n      <td>29</td>\n      <td>26</td>\n      <td>26</td>\n    </tr>\n    <tr>\n      <th>2</th>\n      <td>BB</td>\n      <td>Buffalo Bills</td>\n      <td>AFC East</td>\n      <td>Buffalo</td>\n      <td>New York</td>\n      <td>2006</td>\n      <td>7</td>\n      <td>9</td>\n      <td>0</td>\n      <td>431</td>\n      <td>...</td>\n      <td>3051</td>\n      <td>19</td>\n      <td>3</td>\n      <td>0</td>\n      <td>0</td>\n      <td>1</td>\n      <td>25</td>\n      <td>23</td>\n      <td>33</td>\n      <td>33</td>\n    </tr>\n    <tr>\n      <th>3</th>\n      <td>BB</td>\n      <td>Buffalo Bills</td>\n      <td>AFC East</td>\n      <td>Buffalo</td>\n      <td>New York</td>\n      <td>2007</td>\n      <td>7</td>\n      <td>9</td>\n      <td>0</td>\n      <td>445</td>\n      <td>...</td>\n      <td>2842</td>\n      <td>12</td>\n      <td>4</td>\n      <td>1</td>\n      <td>1</td>\n      <td>1</td>\n      <td>27</td>\n      <td>24</td>\n      <td>24</td>\n      <td>24</td>\n    </tr>\n    <tr>\n      <th>4</th>\n      <td>BB</td>\n      <td>Buffalo Bills</td>\n      <td>AFC East</td>\n      <td>Buffalo</td>\n      <td>New York</td>\n      <td>2008</td>\n      <td>7</td>\n      <td>9</td>\n      <td>0</td>\n      <td>479</td>\n      <td>...</td>\n      <td>3302</td>\n      <td>14</td>\n      <td>7</td>\n      <td>1</td>\n      <td>1</td>\n      <td>1</td>\n      <td>38</td>\n      <td>30</td>\n      <td>34</td>\n      <td>34</td>\n    </tr>\n    <tr>\n      <th>...</th>\n      <td>...</td>\n      <td>...</td>\n      <td>...</td>\n      <td>...</td>\n      <td>...</td>\n      <td>...</td>\n      <td>...</td>\n      <td>...</td>\n      <td>...</td>\n      <td>...</td>\n      <td>...</td>\n      <td>...</td>\n      <td>...</td>\n      <td>...</td>\n      <td>...</td>\n      <td>...</td>\n      <td>...</td>\n      <td>...</td>\n      <td>...</td>\n      <td>...</td>\n      <td>...</td>\n    </tr>\n    <tr>\n      <th>603</th>\n      <td>SS</td>\n      <td>Seattle Seahawks</td>\n      <td>NFC West</td>\n      <td>Seattle</td>\n      <td>Washington</td>\n      <td>2018</td>\n      <td>10</td>\n      <td>6</td>\n      <td>0</td>\n      <td>427</td>\n      <td>...</td>\n      <td>3448</td>\n      <td>35</td>\n      <td>4</td>\n      <td>1</td>\n      <td>0</td>\n      <td>0</td>\n      <td>27</td>\n      <td>22</td>\n      <td>51</td>\n      <td>48</td>\n    </tr>\n    <tr>\n      <th>604</th>\n      <td>SS</td>\n      <td>Seattle Seahawks</td>\n      <td>NFC West</td>\n      <td>Seattle</td>\n      <td>Washington</td>\n      <td>2019</td>\n      <td>11</td>\n      <td>5</td>\n      <td>0</td>\n      <td>517</td>\n      <td>...</td>\n      <td>4110</td>\n      <td>31</td>\n      <td>8</td>\n      <td>1</td>\n      <td>0</td>\n      <td>0</td>\n      <td>28</td>\n      <td>23</td>\n      <td>44</td>\n      <td>40</td>\n    </tr>\n    <tr>\n      <th>605</th>\n      <td>SS</td>\n      <td>Seattle Seahawks</td>\n      <td>NFC West</td>\n      <td>Seattle</td>\n      <td>Washington</td>\n      <td>2020</td>\n      <td>12</td>\n      <td>4</td>\n      <td>0</td>\n      <td>563</td>\n      <td>...</td>\n      <td>4245</td>\n      <td>40</td>\n      <td>3</td>\n      <td>1</td>\n      <td>0</td>\n      <td>0</td>\n      <td>24</td>\n      <td>24</td>\n      <td>53</td>\n      <td>49</td>\n    </tr>\n    <tr>\n      <th>606</th>\n      <td>SS</td>\n      <td>Seattle Seahawks</td>\n      <td>NFC West</td>\n      <td>Seattle</td>\n      <td>Washington</td>\n      <td>2021</td>\n      <td>7</td>\n      <td>10</td>\n      <td>0</td>\n      <td>495</td>\n      <td>...</td>\n      <td>3815</td>\n      <td>30</td>\n      <td>11</td>\n      <td>1</td>\n      <td>1</td>\n      <td>0</td>\n      <td>23</td>\n      <td>17</td>\n      <td>47</td>\n      <td>44</td>\n    </tr>\n    <tr>\n      <th>607</th>\n      <td>SS</td>\n      <td>Seattle Seahawks</td>\n      <td>NFC West</td>\n      <td>Seattle</td>\n      <td>Washington</td>\n      <td>2022</td>\n      <td>9</td>\n      <td>8</td>\n      <td>0</td>\n      <td>573</td>\n      <td>...</td>\n      <td>4282</td>\n      <td>30</td>\n      <td>4</td>\n      <td>0</td>\n      <td>0</td>\n      <td>0</td>\n      <td>37</td>\n      <td>34</td>\n      <td>42</td>\n      <td>41</td>\n    </tr>\n  </tbody>\n</table>\n<p>608 rows × 29 columns</p>\n</div>"
          },
          "metadata": {}
        }
      ],
      "execution_count": 3,
      "metadata": {
        "gather": {
          "logged": 1703908836855
        },
        "jupyter": {
          "outputs_hidden": false,
          "source_hidden": false
        },
        "nteract": {
          "transient": {
            "deleting": false
          }
        }
      }
    },
    {
      "cell_type": "code",
      "source": [
        "offense = offense.drop([\"iso_code\", \"Conference\", \"City\", \"State\"], axis = 1)\n",
        "defense = defense.drop([\"iso_code\", \"Conference\", \"City\", \"State\", \"Wins\", \"Losses\", \"Ties\"], axis = 1)"
      ],
      "outputs": [],
      "execution_count": 4,
      "metadata": {
        "gather": {
          "logged": 1703908837099
        },
        "jupyter": {
          "outputs_hidden": false,
          "source_hidden": false
        },
        "nteract": {
          "transient": {
            "deleting": false
          }
        }
      }
    },
    {
      "cell_type": "code",
      "source": [
        "offense.columns"
      ],
      "outputs": [
        {
          "output_type": "execute_result",
          "execution_count": 5,
          "data": {
            "text/plain": "Index(['Team', 'Year', 'Wins', 'Losses', 'Ties', 'Passing_Attempts',\n       'Passing_Completions', 'Passing_Yards', 'Passing_TDs',\n       'Interceptions_Thrown', 'Rushing _Attempts', 'Rushing_Yards',\n       'Rushing_TDs', 'Rushing_Fumbles', 'Receptions', 'Receiving_Yards',\n       'Receiving_TDs', 'Reciever_Fumbles', 'Two_Point_Conversions',\n       'Kick_Return_TDs', 'Punt_Return_TDs', 'Field_Goals_Attempts',\n       'Field_Goals_Made', 'Extra_Points_Attempts', 'Extra_Points_Made'],\n      dtype='object')"
          },
          "metadata": {}
        }
      ],
      "execution_count": 5,
      "metadata": {
        "gather": {
          "logged": 1703908837297
        },
        "jupyter": {
          "outputs_hidden": false,
          "source_hidden": false
        },
        "nteract": {
          "transient": {
            "deleting": false
          }
        }
      }
    },
    {
      "cell_type": "code",
      "source": [
        "offense = offense.set_index([\"Team\", \"Year\"])\n",
        "defense = defense.set_index([\"Team\", \"Year\"])"
      ],
      "outputs": [],
      "execution_count": 6,
      "metadata": {
        "gather": {
          "logged": 1703908837609
        },
        "jupyter": {
          "outputs_hidden": false,
          "source_hidden": false
        },
        "nteract": {
          "transient": {
            "deleting": false
          }
        }
      }
    },
    {
      "cell_type": "code",
      "source": [
        "stats = pd.concat([offense, defense], axis = 1)"
      ],
      "outputs": [],
      "execution_count": 7,
      "metadata": {
        "gather": {
          "logged": 1703908837913
        },
        "jupyter": {
          "outputs_hidden": false,
          "source_hidden": false
        },
        "nteract": {
          "transient": {
            "deleting": false
          }
        }
      }
    },
    {
      "cell_type": "code",
      "source": [
        "stats"
      ],
      "outputs": [
        {
          "output_type": "execute_result",
          "execution_count": 8,
          "data": {
            "text/plain": "                       Wins  Losses  Ties  Passing_Attempts  \\\nTeam             Year                                         \nBuffalo Bills    2004     9       7     0               461   \n                 2005     5      11     0               459   \n                 2006     7       9     0               431   \n                 2007     7       9     0               445   \n                 2008     7       9     0               479   \n...                     ...     ...   ...               ...   \nSeattle Seahawks 2018    10       6     0               427   \n                 2019    11       5     0               517   \n                 2020    12       4     0               563   \n                 2021     7      10     0               495   \n                 2022     9       8     0               573   \n\n                       Passing_Completions  Passing_Yards  Passing_TDs  \\\nTeam             Year                                                    \nBuffalo Bills    2004                  262           3032           21   \n                 2005                  269           2852           18   \n                 2006                  268           3051           19   \n                 2007                  263           2842           12   \n                 2008                  309           3302           14   \n...                                    ...            ...          ...   \nSeattle Seahawks 2018                  280           3448           35   \n                 2019                  341           4110           31   \n                 2020                  388           4245           40   \n                 2021                  324           3815           30   \n                 2022                  399           4282           30   \n\n                       Interceptions_Thrown  Rushing _Attempts  Rushing_Yards  \\\nTeam             Year                                                           \nBuffalo Bills    2004                    17                483           1874   \n                 2005                    16                428           1607   \n                 2006                    14                420           1552   \n                 2007                    14                448           1800   \n                 2008                    15                439           1842   \n...                                     ...                ...            ...   \nSeattle Seahawks 2018                     7                534           2560   \n                 2019                     6                481           2200   \n                 2020                    13                411           1971   \n                 2021                     7                413           2074   \n                 2022                    12                425           2042   \n\n                       ...  Assisted_Tackles  Sacks  Tackles_For_Loss  \\\nTeam             Year  ...                                              \nBuffalo Bills    2004  ...               377     45               0.0   \n                 2005  ...               357     38               0.0   \n                 2006  ...               368     40               0.0   \n                 2007  ...               262     26               0.0   \n                 2008  ...               227     24               0.0   \n...                    ...               ...    ...               ...   \nSeattle Seahawks 2018  ...               260     43              81.5   \n                 2019  ...               390     28              71.5   \n                 2020  ...               329     46             102.0   \n                 2021  ...               536     34              68.0   \n                 2022  ...               417     45              75.0   \n\n                       Pass_Deflections  Interceptions  Interception_TDs  \\\nTeam             Year                                                      \nBuffalo Bills    2004               225             24                 4   \n                 2005               189             17                 1   \n                 2006               189             13                 2   \n                 2007                80             18                 2   \n                 2008                73             10                 3   \n...                                 ...            ...               ...   \nSeattle Seahawks 2018                60             12                 1   \n                 2019                74             16                 2   \n                 2020                79             14                 0   \n                 2021                80             11                 0   \n                 2022                81             14                 1   \n\n                       Forced_Fumbles  Fumbles_Recovered  Fumble__TDs  \\\nTeam             Year                                                   \nBuffalo Bills    2004              21                  0            0   \n                 2005              16                  0            0   \n                 2006              17                  0            2   \n                 2007              12                  0            1   \n                 2008              15                  0            0   \n...                               ...                ...          ...   \nSeattle Seahawks 2018              21                 14            1   \n                 2019              19                 16            1   \n                 2020              14                  8            0   \n                 2021              11                  7            0   \n                 2022              21                 11            0   \n\n                       Kicks_Blocked  \nTeam             Year                 \nBuffalo Bills    2004              1  \n                 2005              0  \n                 2006              1  \n                 2007              0  \n                 2008              1  \n...                              ...  \nSeattle Seahawks 2018              1  \n                 2019              3  \n                 2020              2  \n                 2021              1  \n                 2022              1  \n\n[608 rows x 34 columns]",
            "text/html": "<div>\n<style scoped>\n    .dataframe tbody tr th:only-of-type {\n        vertical-align: middle;\n    }\n\n    .dataframe tbody tr th {\n        vertical-align: top;\n    }\n\n    .dataframe thead th {\n        text-align: right;\n    }\n</style>\n<table border=\"1\" class=\"dataframe\">\n  <thead>\n    <tr style=\"text-align: right;\">\n      <th></th>\n      <th></th>\n      <th>Wins</th>\n      <th>Losses</th>\n      <th>Ties</th>\n      <th>Passing_Attempts</th>\n      <th>Passing_Completions</th>\n      <th>Passing_Yards</th>\n      <th>Passing_TDs</th>\n      <th>Interceptions_Thrown</th>\n      <th>Rushing _Attempts</th>\n      <th>Rushing_Yards</th>\n      <th>...</th>\n      <th>Assisted_Tackles</th>\n      <th>Sacks</th>\n      <th>Tackles_For_Loss</th>\n      <th>Pass_Deflections</th>\n      <th>Interceptions</th>\n      <th>Interception_TDs</th>\n      <th>Forced_Fumbles</th>\n      <th>Fumbles_Recovered</th>\n      <th>Fumble__TDs</th>\n      <th>Kicks_Blocked</th>\n    </tr>\n    <tr>\n      <th>Team</th>\n      <th>Year</th>\n      <th></th>\n      <th></th>\n      <th></th>\n      <th></th>\n      <th></th>\n      <th></th>\n      <th></th>\n      <th></th>\n      <th></th>\n      <th></th>\n      <th></th>\n      <th></th>\n      <th></th>\n      <th></th>\n      <th></th>\n      <th></th>\n      <th></th>\n      <th></th>\n      <th></th>\n      <th></th>\n      <th></th>\n    </tr>\n  </thead>\n  <tbody>\n    <tr>\n      <th rowspan=\"5\" valign=\"top\">Buffalo Bills</th>\n      <th>2004</th>\n      <td>9</td>\n      <td>7</td>\n      <td>0</td>\n      <td>461</td>\n      <td>262</td>\n      <td>3032</td>\n      <td>21</td>\n      <td>17</td>\n      <td>483</td>\n      <td>1874</td>\n      <td>...</td>\n      <td>377</td>\n      <td>45</td>\n      <td>0.0</td>\n      <td>225</td>\n      <td>24</td>\n      <td>4</td>\n      <td>21</td>\n      <td>0</td>\n      <td>0</td>\n      <td>1</td>\n    </tr>\n    <tr>\n      <th>2005</th>\n      <td>5</td>\n      <td>11</td>\n      <td>0</td>\n      <td>459</td>\n      <td>269</td>\n      <td>2852</td>\n      <td>18</td>\n      <td>16</td>\n      <td>428</td>\n      <td>1607</td>\n      <td>...</td>\n      <td>357</td>\n      <td>38</td>\n      <td>0.0</td>\n      <td>189</td>\n      <td>17</td>\n      <td>1</td>\n      <td>16</td>\n      <td>0</td>\n      <td>0</td>\n      <td>0</td>\n    </tr>\n    <tr>\n      <th>2006</th>\n      <td>7</td>\n      <td>9</td>\n      <td>0</td>\n      <td>431</td>\n      <td>268</td>\n      <td>3051</td>\n      <td>19</td>\n      <td>14</td>\n      <td>420</td>\n      <td>1552</td>\n      <td>...</td>\n      <td>368</td>\n      <td>40</td>\n      <td>0.0</td>\n      <td>189</td>\n      <td>13</td>\n      <td>2</td>\n      <td>17</td>\n      <td>0</td>\n      <td>2</td>\n      <td>1</td>\n    </tr>\n    <tr>\n      <th>2007</th>\n      <td>7</td>\n      <td>9</td>\n      <td>0</td>\n      <td>445</td>\n      <td>263</td>\n      <td>2842</td>\n      <td>12</td>\n      <td>14</td>\n      <td>448</td>\n      <td>1800</td>\n      <td>...</td>\n      <td>262</td>\n      <td>26</td>\n      <td>0.0</td>\n      <td>80</td>\n      <td>18</td>\n      <td>2</td>\n      <td>12</td>\n      <td>0</td>\n      <td>1</td>\n      <td>0</td>\n    </tr>\n    <tr>\n      <th>2008</th>\n      <td>7</td>\n      <td>9</td>\n      <td>0</td>\n      <td>479</td>\n      <td>309</td>\n      <td>3302</td>\n      <td>14</td>\n      <td>15</td>\n      <td>439</td>\n      <td>1842</td>\n      <td>...</td>\n      <td>227</td>\n      <td>24</td>\n      <td>0.0</td>\n      <td>73</td>\n      <td>10</td>\n      <td>3</td>\n      <td>15</td>\n      <td>0</td>\n      <td>0</td>\n      <td>1</td>\n    </tr>\n    <tr>\n      <th>...</th>\n      <th>...</th>\n      <td>...</td>\n      <td>...</td>\n      <td>...</td>\n      <td>...</td>\n      <td>...</td>\n      <td>...</td>\n      <td>...</td>\n      <td>...</td>\n      <td>...</td>\n      <td>...</td>\n      <td>...</td>\n      <td>...</td>\n      <td>...</td>\n      <td>...</td>\n      <td>...</td>\n      <td>...</td>\n      <td>...</td>\n      <td>...</td>\n      <td>...</td>\n      <td>...</td>\n      <td>...</td>\n    </tr>\n    <tr>\n      <th rowspan=\"5\" valign=\"top\">Seattle Seahawks</th>\n      <th>2018</th>\n      <td>10</td>\n      <td>6</td>\n      <td>0</td>\n      <td>427</td>\n      <td>280</td>\n      <td>3448</td>\n      <td>35</td>\n      <td>7</td>\n      <td>534</td>\n      <td>2560</td>\n      <td>...</td>\n      <td>260</td>\n      <td>43</td>\n      <td>81.5</td>\n      <td>60</td>\n      <td>12</td>\n      <td>1</td>\n      <td>21</td>\n      <td>14</td>\n      <td>1</td>\n      <td>1</td>\n    </tr>\n    <tr>\n      <th>2019</th>\n      <td>11</td>\n      <td>5</td>\n      <td>0</td>\n      <td>517</td>\n      <td>341</td>\n      <td>4110</td>\n      <td>31</td>\n      <td>6</td>\n      <td>481</td>\n      <td>2200</td>\n      <td>...</td>\n      <td>390</td>\n      <td>28</td>\n      <td>71.5</td>\n      <td>74</td>\n      <td>16</td>\n      <td>2</td>\n      <td>19</td>\n      <td>16</td>\n      <td>1</td>\n      <td>3</td>\n    </tr>\n    <tr>\n      <th>2020</th>\n      <td>12</td>\n      <td>4</td>\n      <td>0</td>\n      <td>563</td>\n      <td>388</td>\n      <td>4245</td>\n      <td>40</td>\n      <td>13</td>\n      <td>411</td>\n      <td>1971</td>\n      <td>...</td>\n      <td>329</td>\n      <td>46</td>\n      <td>102.0</td>\n      <td>79</td>\n      <td>14</td>\n      <td>0</td>\n      <td>14</td>\n      <td>8</td>\n      <td>0</td>\n      <td>2</td>\n    </tr>\n    <tr>\n      <th>2021</th>\n      <td>7</td>\n      <td>10</td>\n      <td>0</td>\n      <td>495</td>\n      <td>324</td>\n      <td>3815</td>\n      <td>30</td>\n      <td>7</td>\n      <td>413</td>\n      <td>2074</td>\n      <td>...</td>\n      <td>536</td>\n      <td>34</td>\n      <td>68.0</td>\n      <td>80</td>\n      <td>11</td>\n      <td>0</td>\n      <td>11</td>\n      <td>7</td>\n      <td>0</td>\n      <td>1</td>\n    </tr>\n    <tr>\n      <th>2022</th>\n      <td>9</td>\n      <td>8</td>\n      <td>0</td>\n      <td>573</td>\n      <td>399</td>\n      <td>4282</td>\n      <td>30</td>\n      <td>12</td>\n      <td>425</td>\n      <td>2042</td>\n      <td>...</td>\n      <td>417</td>\n      <td>45</td>\n      <td>75.0</td>\n      <td>81</td>\n      <td>14</td>\n      <td>1</td>\n      <td>21</td>\n      <td>11</td>\n      <td>0</td>\n      <td>1</td>\n    </tr>\n  </tbody>\n</table>\n<p>608 rows × 34 columns</p>\n</div>"
          },
          "metadata": {}
        }
      ],
      "execution_count": 8,
      "metadata": {
        "gather": {
          "logged": 1703908838246
        },
        "jupyter": {
          "outputs_hidden": false,
          "source_hidden": false
        },
        "nteract": {
          "transient": {
            "deleting": false
          }
        }
      }
    },
    {
      "cell_type": "code",
      "source": [
        "win_loss = pd.read_csv(\"../data/raw/nfl_win_loss.csv\")\n",
        "win_loss"
      ],
      "outputs": [
        {
          "output_type": "execute_result",
          "execution_count": 9,
          "data": {
            "text/plain": "           date      away     home  first_downs_away  first_downs_home  \\\n0      9/5/2002     49ers   Giants                13                21   \n1      9/8/2002      Jets    Bills                18                26   \n2      9/8/2002   Vikings    Bears                19                20   \n3      9/8/2002  Chargers  Bengals                27                13   \n4      9/8/2002    Chiefs   Browns                24                24   \n...         ...       ...      ...               ...               ...   \n5636  1/22/2023   Bengals    Bills                30                19   \n5637  1/22/2023   Cowboys    49ers                15                21   \n5638  1/29/2023     49ers   Eagles                11                25   \n5639  1/29/2023   Bengals   Chiefs                18                23   \n5640  2/12/2023    Chiefs   Eagles                21                25   \n\n     third_downs_away third_downs_home fourth_downs_away fourth_downs_home  \\\n0              12-Apr           16-Sep               0-0               0-1   \n1               8-Feb           17-Jul               0-0             2-Feb   \n2              13-May           13-Jul               0-0               0-0   \n3              10-Jun           11-Apr               0-0               0-0   \n4              11-May           11-Apr               0-0               0-0   \n...               ...              ...               ...               ...   \n5636           10-Jun           12-May               0-0             2-Jan   \n5637           15-May           14-Jul             2-Feb               0-0   \n5638            8-Feb           15-May               0-2             3-Mar   \n5639           14-Jun           14-Jul             1-Jan             1-Jan   \n5640            8-Apr           18-Nov               0-0             2-Feb   \n\n      passing_yards_away  ...  redzone_away  redzone_home  drives_away  \\\n0                    166  ...           0-8           0-6           13   \n1                    193  ...           0-9           0-8           17   \n2                    228  ...           0-7           0-6           17   \n3                    160  ...           0-7           0-5           11   \n4                    276  ...          0-10          0-10           20   \n...                  ...  ...           ...           ...          ...   \n5636                 240  ...         4-Feb         3-Jan            9   \n5637                 206  ...         3-Jan         3-Jan           10   \n5638                  83  ...           0-0         6-Apr           10   \n5639                 238  ...         3-Jan         3-Feb           11   \n5640                 182  ...         5-Apr         5-Mar            8   \n\n      drives_home  def_st_td_away def_st_td_home possession_away  \\\n0              15               0              0        27:32:00   \n1              18               2              0           21:06   \n2              17               0              0        31:31:00   \n3              15               0              0        37:48:00   \n4              17               0              0        30:16:00   \n...           ...             ...            ...             ...   \n5636            8               0              0        33:54:00   \n5637            9               0              0        27:07:00   \n5638           10               0              0           22:34   \n5639           10               0              0        27:09:00   \n5640           10               1              0        24:13:00   \n\n     possession_home score_away  score_home  \n0           32:28:00         16          13  \n1           39:08:00         37          31  \n2           28:29:00         23          27  \n3              22:12         34           6  \n4           29:44:00         40          39  \n...              ...        ...         ...  \n5636        26:06:00         27          10  \n5637        32:53:00         12          19  \n5638        37:26:00          7          31  \n5639        32:51:00         20          23  \n5640        35:47:00         38          35  \n\n[5641 rows x 39 columns]",
            "text/html": "<div>\n<style scoped>\n    .dataframe tbody tr th:only-of-type {\n        vertical-align: middle;\n    }\n\n    .dataframe tbody tr th {\n        vertical-align: top;\n    }\n\n    .dataframe thead th {\n        text-align: right;\n    }\n</style>\n<table border=\"1\" class=\"dataframe\">\n  <thead>\n    <tr style=\"text-align: right;\">\n      <th></th>\n      <th>date</th>\n      <th>away</th>\n      <th>home</th>\n      <th>first_downs_away</th>\n      <th>first_downs_home</th>\n      <th>third_downs_away</th>\n      <th>third_downs_home</th>\n      <th>fourth_downs_away</th>\n      <th>fourth_downs_home</th>\n      <th>passing_yards_away</th>\n      <th>...</th>\n      <th>redzone_away</th>\n      <th>redzone_home</th>\n      <th>drives_away</th>\n      <th>drives_home</th>\n      <th>def_st_td_away</th>\n      <th>def_st_td_home</th>\n      <th>possession_away</th>\n      <th>possession_home</th>\n      <th>score_away</th>\n      <th>score_home</th>\n    </tr>\n  </thead>\n  <tbody>\n    <tr>\n      <th>0</th>\n      <td>9/5/2002</td>\n      <td>49ers</td>\n      <td>Giants</td>\n      <td>13</td>\n      <td>21</td>\n      <td>12-Apr</td>\n      <td>16-Sep</td>\n      <td>0-0</td>\n      <td>0-1</td>\n      <td>166</td>\n      <td>...</td>\n      <td>0-8</td>\n      <td>0-6</td>\n      <td>13</td>\n      <td>15</td>\n      <td>0</td>\n      <td>0</td>\n      <td>27:32:00</td>\n      <td>32:28:00</td>\n      <td>16</td>\n      <td>13</td>\n    </tr>\n    <tr>\n      <th>1</th>\n      <td>9/8/2002</td>\n      <td>Jets</td>\n      <td>Bills</td>\n      <td>18</td>\n      <td>26</td>\n      <td>8-Feb</td>\n      <td>17-Jul</td>\n      <td>0-0</td>\n      <td>2-Feb</td>\n      <td>193</td>\n      <td>...</td>\n      <td>0-9</td>\n      <td>0-8</td>\n      <td>17</td>\n      <td>18</td>\n      <td>2</td>\n      <td>0</td>\n      <td>21:06</td>\n      <td>39:08:00</td>\n      <td>37</td>\n      <td>31</td>\n    </tr>\n    <tr>\n      <th>2</th>\n      <td>9/8/2002</td>\n      <td>Vikings</td>\n      <td>Bears</td>\n      <td>19</td>\n      <td>20</td>\n      <td>13-May</td>\n      <td>13-Jul</td>\n      <td>0-0</td>\n      <td>0-0</td>\n      <td>228</td>\n      <td>...</td>\n      <td>0-7</td>\n      <td>0-6</td>\n      <td>17</td>\n      <td>17</td>\n      <td>0</td>\n      <td>0</td>\n      <td>31:31:00</td>\n      <td>28:29:00</td>\n      <td>23</td>\n      <td>27</td>\n    </tr>\n    <tr>\n      <th>3</th>\n      <td>9/8/2002</td>\n      <td>Chargers</td>\n      <td>Bengals</td>\n      <td>27</td>\n      <td>13</td>\n      <td>10-Jun</td>\n      <td>11-Apr</td>\n      <td>0-0</td>\n      <td>0-0</td>\n      <td>160</td>\n      <td>...</td>\n      <td>0-7</td>\n      <td>0-5</td>\n      <td>11</td>\n      <td>15</td>\n      <td>0</td>\n      <td>0</td>\n      <td>37:48:00</td>\n      <td>22:12</td>\n      <td>34</td>\n      <td>6</td>\n    </tr>\n    <tr>\n      <th>4</th>\n      <td>9/8/2002</td>\n      <td>Chiefs</td>\n      <td>Browns</td>\n      <td>24</td>\n      <td>24</td>\n      <td>11-May</td>\n      <td>11-Apr</td>\n      <td>0-0</td>\n      <td>0-0</td>\n      <td>276</td>\n      <td>...</td>\n      <td>0-10</td>\n      <td>0-10</td>\n      <td>20</td>\n      <td>17</td>\n      <td>0</td>\n      <td>0</td>\n      <td>30:16:00</td>\n      <td>29:44:00</td>\n      <td>40</td>\n      <td>39</td>\n    </tr>\n    <tr>\n      <th>...</th>\n      <td>...</td>\n      <td>...</td>\n      <td>...</td>\n      <td>...</td>\n      <td>...</td>\n      <td>...</td>\n      <td>...</td>\n      <td>...</td>\n      <td>...</td>\n      <td>...</td>\n      <td>...</td>\n      <td>...</td>\n      <td>...</td>\n      <td>...</td>\n      <td>...</td>\n      <td>...</td>\n      <td>...</td>\n      <td>...</td>\n      <td>...</td>\n      <td>...</td>\n      <td>...</td>\n    </tr>\n    <tr>\n      <th>5636</th>\n      <td>1/22/2023</td>\n      <td>Bengals</td>\n      <td>Bills</td>\n      <td>30</td>\n      <td>19</td>\n      <td>10-Jun</td>\n      <td>12-May</td>\n      <td>0-0</td>\n      <td>2-Jan</td>\n      <td>240</td>\n      <td>...</td>\n      <td>4-Feb</td>\n      <td>3-Jan</td>\n      <td>9</td>\n      <td>8</td>\n      <td>0</td>\n      <td>0</td>\n      <td>33:54:00</td>\n      <td>26:06:00</td>\n      <td>27</td>\n      <td>10</td>\n    </tr>\n    <tr>\n      <th>5637</th>\n      <td>1/22/2023</td>\n      <td>Cowboys</td>\n      <td>49ers</td>\n      <td>15</td>\n      <td>21</td>\n      <td>15-May</td>\n      <td>14-Jul</td>\n      <td>2-Feb</td>\n      <td>0-0</td>\n      <td>206</td>\n      <td>...</td>\n      <td>3-Jan</td>\n      <td>3-Jan</td>\n      <td>10</td>\n      <td>9</td>\n      <td>0</td>\n      <td>0</td>\n      <td>27:07:00</td>\n      <td>32:53:00</td>\n      <td>12</td>\n      <td>19</td>\n    </tr>\n    <tr>\n      <th>5638</th>\n      <td>1/29/2023</td>\n      <td>49ers</td>\n      <td>Eagles</td>\n      <td>11</td>\n      <td>25</td>\n      <td>8-Feb</td>\n      <td>15-May</td>\n      <td>0-2</td>\n      <td>3-Mar</td>\n      <td>83</td>\n      <td>...</td>\n      <td>0-0</td>\n      <td>6-Apr</td>\n      <td>10</td>\n      <td>10</td>\n      <td>0</td>\n      <td>0</td>\n      <td>22:34</td>\n      <td>37:26:00</td>\n      <td>7</td>\n      <td>31</td>\n    </tr>\n    <tr>\n      <th>5639</th>\n      <td>1/29/2023</td>\n      <td>Bengals</td>\n      <td>Chiefs</td>\n      <td>18</td>\n      <td>23</td>\n      <td>14-Jun</td>\n      <td>14-Jul</td>\n      <td>1-Jan</td>\n      <td>1-Jan</td>\n      <td>238</td>\n      <td>...</td>\n      <td>3-Jan</td>\n      <td>3-Feb</td>\n      <td>11</td>\n      <td>10</td>\n      <td>0</td>\n      <td>0</td>\n      <td>27:09:00</td>\n      <td>32:51:00</td>\n      <td>20</td>\n      <td>23</td>\n    </tr>\n    <tr>\n      <th>5640</th>\n      <td>2/12/2023</td>\n      <td>Chiefs</td>\n      <td>Eagles</td>\n      <td>21</td>\n      <td>25</td>\n      <td>8-Apr</td>\n      <td>18-Nov</td>\n      <td>0-0</td>\n      <td>2-Feb</td>\n      <td>182</td>\n      <td>...</td>\n      <td>5-Apr</td>\n      <td>5-Mar</td>\n      <td>8</td>\n      <td>10</td>\n      <td>1</td>\n      <td>0</td>\n      <td>24:13:00</td>\n      <td>35:47:00</td>\n      <td>38</td>\n      <td>35</td>\n    </tr>\n  </tbody>\n</table>\n<p>5641 rows × 39 columns</p>\n</div>"
          },
          "metadata": {}
        }
      ],
      "execution_count": 9,
      "metadata": {
        "gather": {
          "logged": 1703908838554
        },
        "jupyter": {
          "outputs_hidden": false,
          "source_hidden": false
        },
        "nteract": {
          "transient": {
            "deleting": false
          }
        }
      }
    },
    {
      "cell_type": "code",
      "source": [
        "win_loss = win_loss[[\"date\",\"away\", \"home\", \"score_away\", \"score_home\"]]"
      ],
      "outputs": [],
      "execution_count": 10,
      "metadata": {
        "gather": {
          "logged": 1703908838920
        },
        "jupyter": {
          "outputs_hidden": false,
          "source_hidden": false
        },
        "nteract": {
          "transient": {
            "deleting": false
          }
        }
      }
    },
    {
      "cell_type": "code",
      "source": [
        "win_loss"
      ],
      "outputs": [
        {
          "output_type": "execute_result",
          "execution_count": 11,
          "data": {
            "text/plain": "           date      away     home  score_away  score_home\n0      9/5/2002     49ers   Giants          16          13\n1      9/8/2002      Jets    Bills          37          31\n2      9/8/2002   Vikings    Bears          23          27\n3      9/8/2002  Chargers  Bengals          34           6\n4      9/8/2002    Chiefs   Browns          40          39\n...         ...       ...      ...         ...         ...\n5636  1/22/2023   Bengals    Bills          27          10\n5637  1/22/2023   Cowboys    49ers          12          19\n5638  1/29/2023     49ers   Eagles           7          31\n5639  1/29/2023   Bengals   Chiefs          20          23\n5640  2/12/2023    Chiefs   Eagles          38          35\n\n[5641 rows x 5 columns]",
            "text/html": "<div>\n<style scoped>\n    .dataframe tbody tr th:only-of-type {\n        vertical-align: middle;\n    }\n\n    .dataframe tbody tr th {\n        vertical-align: top;\n    }\n\n    .dataframe thead th {\n        text-align: right;\n    }\n</style>\n<table border=\"1\" class=\"dataframe\">\n  <thead>\n    <tr style=\"text-align: right;\">\n      <th></th>\n      <th>date</th>\n      <th>away</th>\n      <th>home</th>\n      <th>score_away</th>\n      <th>score_home</th>\n    </tr>\n  </thead>\n  <tbody>\n    <tr>\n      <th>0</th>\n      <td>9/5/2002</td>\n      <td>49ers</td>\n      <td>Giants</td>\n      <td>16</td>\n      <td>13</td>\n    </tr>\n    <tr>\n      <th>1</th>\n      <td>9/8/2002</td>\n      <td>Jets</td>\n      <td>Bills</td>\n      <td>37</td>\n      <td>31</td>\n    </tr>\n    <tr>\n      <th>2</th>\n      <td>9/8/2002</td>\n      <td>Vikings</td>\n      <td>Bears</td>\n      <td>23</td>\n      <td>27</td>\n    </tr>\n    <tr>\n      <th>3</th>\n      <td>9/8/2002</td>\n      <td>Chargers</td>\n      <td>Bengals</td>\n      <td>34</td>\n      <td>6</td>\n    </tr>\n    <tr>\n      <th>4</th>\n      <td>9/8/2002</td>\n      <td>Chiefs</td>\n      <td>Browns</td>\n      <td>40</td>\n      <td>39</td>\n    </tr>\n    <tr>\n      <th>...</th>\n      <td>...</td>\n      <td>...</td>\n      <td>...</td>\n      <td>...</td>\n      <td>...</td>\n    </tr>\n    <tr>\n      <th>5636</th>\n      <td>1/22/2023</td>\n      <td>Bengals</td>\n      <td>Bills</td>\n      <td>27</td>\n      <td>10</td>\n    </tr>\n    <tr>\n      <th>5637</th>\n      <td>1/22/2023</td>\n      <td>Cowboys</td>\n      <td>49ers</td>\n      <td>12</td>\n      <td>19</td>\n    </tr>\n    <tr>\n      <th>5638</th>\n      <td>1/29/2023</td>\n      <td>49ers</td>\n      <td>Eagles</td>\n      <td>7</td>\n      <td>31</td>\n    </tr>\n    <tr>\n      <th>5639</th>\n      <td>1/29/2023</td>\n      <td>Bengals</td>\n      <td>Chiefs</td>\n      <td>20</td>\n      <td>23</td>\n    </tr>\n    <tr>\n      <th>5640</th>\n      <td>2/12/2023</td>\n      <td>Chiefs</td>\n      <td>Eagles</td>\n      <td>38</td>\n      <td>35</td>\n    </tr>\n  </tbody>\n</table>\n<p>5641 rows × 5 columns</p>\n</div>"
          },
          "metadata": {}
        }
      ],
      "execution_count": 11,
      "metadata": {
        "gather": {
          "logged": 1703908839214
        },
        "jupyter": {
          "outputs_hidden": false,
          "source_hidden": false
        },
        "nteract": {
          "transient": {
            "deleting": false
          }
        }
      }
    },
    {
      "cell_type": "code",
      "source": [
        "win_loss2 = win_loss"
      ],
      "outputs": [],
      "execution_count": 12,
      "metadata": {
        "gather": {
          "logged": 1703908839496
        },
        "jupyter": {
          "outputs_hidden": false,
          "source_hidden": false
        },
        "nteract": {
          "transient": {
            "deleting": false
          }
        }
      }
    },
    {
      "cell_type": "code",
      "source": [
        "win_loss = win_loss.rename(columns = {\"away\": \"team\", \"home\": \"opponent\", \"score_away\": \"score_team\", \"score_home\":\"score_opponent\"})"
      ],
      "outputs": [],
      "execution_count": 13,
      "metadata": {
        "gather": {
          "logged": 1703908839774
        },
        "jupyter": {
          "outputs_hidden": false,
          "source_hidden": false
        },
        "nteract": {
          "transient": {
            "deleting": false
          }
        }
      }
    },
    {
      "cell_type": "code",
      "source": [
        "win_loss"
      ],
      "outputs": [
        {
          "output_type": "execute_result",
          "execution_count": 14,
          "data": {
            "text/plain": "           date      team opponent  score_team  score_opponent\n0      9/5/2002     49ers   Giants          16              13\n1      9/8/2002      Jets    Bills          37              31\n2      9/8/2002   Vikings    Bears          23              27\n3      9/8/2002  Chargers  Bengals          34               6\n4      9/8/2002    Chiefs   Browns          40              39\n...         ...       ...      ...         ...             ...\n5636  1/22/2023   Bengals    Bills          27              10\n5637  1/22/2023   Cowboys    49ers          12              19\n5638  1/29/2023     49ers   Eagles           7              31\n5639  1/29/2023   Bengals   Chiefs          20              23\n5640  2/12/2023    Chiefs   Eagles          38              35\n\n[5641 rows x 5 columns]",
            "text/html": "<div>\n<style scoped>\n    .dataframe tbody tr th:only-of-type {\n        vertical-align: middle;\n    }\n\n    .dataframe tbody tr th {\n        vertical-align: top;\n    }\n\n    .dataframe thead th {\n        text-align: right;\n    }\n</style>\n<table border=\"1\" class=\"dataframe\">\n  <thead>\n    <tr style=\"text-align: right;\">\n      <th></th>\n      <th>date</th>\n      <th>team</th>\n      <th>opponent</th>\n      <th>score_team</th>\n      <th>score_opponent</th>\n    </tr>\n  </thead>\n  <tbody>\n    <tr>\n      <th>0</th>\n      <td>9/5/2002</td>\n      <td>49ers</td>\n      <td>Giants</td>\n      <td>16</td>\n      <td>13</td>\n    </tr>\n    <tr>\n      <th>1</th>\n      <td>9/8/2002</td>\n      <td>Jets</td>\n      <td>Bills</td>\n      <td>37</td>\n      <td>31</td>\n    </tr>\n    <tr>\n      <th>2</th>\n      <td>9/8/2002</td>\n      <td>Vikings</td>\n      <td>Bears</td>\n      <td>23</td>\n      <td>27</td>\n    </tr>\n    <tr>\n      <th>3</th>\n      <td>9/8/2002</td>\n      <td>Chargers</td>\n      <td>Bengals</td>\n      <td>34</td>\n      <td>6</td>\n    </tr>\n    <tr>\n      <th>4</th>\n      <td>9/8/2002</td>\n      <td>Chiefs</td>\n      <td>Browns</td>\n      <td>40</td>\n      <td>39</td>\n    </tr>\n    <tr>\n      <th>...</th>\n      <td>...</td>\n      <td>...</td>\n      <td>...</td>\n      <td>...</td>\n      <td>...</td>\n    </tr>\n    <tr>\n      <th>5636</th>\n      <td>1/22/2023</td>\n      <td>Bengals</td>\n      <td>Bills</td>\n      <td>27</td>\n      <td>10</td>\n    </tr>\n    <tr>\n      <th>5637</th>\n      <td>1/22/2023</td>\n      <td>Cowboys</td>\n      <td>49ers</td>\n      <td>12</td>\n      <td>19</td>\n    </tr>\n    <tr>\n      <th>5638</th>\n      <td>1/29/2023</td>\n      <td>49ers</td>\n      <td>Eagles</td>\n      <td>7</td>\n      <td>31</td>\n    </tr>\n    <tr>\n      <th>5639</th>\n      <td>1/29/2023</td>\n      <td>Bengals</td>\n      <td>Chiefs</td>\n      <td>20</td>\n      <td>23</td>\n    </tr>\n    <tr>\n      <th>5640</th>\n      <td>2/12/2023</td>\n      <td>Chiefs</td>\n      <td>Eagles</td>\n      <td>38</td>\n      <td>35</td>\n    </tr>\n  </tbody>\n</table>\n<p>5641 rows × 5 columns</p>\n</div>"
          },
          "metadata": {}
        }
      ],
      "execution_count": 14,
      "metadata": {
        "gather": {
          "logged": 1703908840049
        },
        "jupyter": {
          "outputs_hidden": false,
          "source_hidden": false
        },
        "nteract": {
          "transient": {
            "deleting": false
          }
        }
      }
    },
    {
      "cell_type": "code",
      "source": [
        "win_loss2 = win_loss[[\"date\", \"opponent\", \"team\", \"score_opponent\", \"score_team\"]]"
      ],
      "outputs": [],
      "execution_count": 15,
      "metadata": {
        "gather": {
          "logged": 1703908840350
        },
        "jupyter": {
          "outputs_hidden": false,
          "source_hidden": false
        },
        "nteract": {
          "transient": {
            "deleting": false
          }
        }
      }
    },
    {
      "cell_type": "code",
      "source": [
        "win_loss2"
      ],
      "outputs": [
        {
          "output_type": "execute_result",
          "execution_count": 16,
          "data": {
            "text/plain": "           date opponent      team  score_opponent  score_team\n0      9/5/2002   Giants     49ers              13          16\n1      9/8/2002    Bills      Jets              31          37\n2      9/8/2002    Bears   Vikings              27          23\n3      9/8/2002  Bengals  Chargers               6          34\n4      9/8/2002   Browns    Chiefs              39          40\n...         ...      ...       ...             ...         ...\n5636  1/22/2023    Bills   Bengals              10          27\n5637  1/22/2023    49ers   Cowboys              19          12\n5638  1/29/2023   Eagles     49ers              31           7\n5639  1/29/2023   Chiefs   Bengals              23          20\n5640  2/12/2023   Eagles    Chiefs              35          38\n\n[5641 rows x 5 columns]",
            "text/html": "<div>\n<style scoped>\n    .dataframe tbody tr th:only-of-type {\n        vertical-align: middle;\n    }\n\n    .dataframe tbody tr th {\n        vertical-align: top;\n    }\n\n    .dataframe thead th {\n        text-align: right;\n    }\n</style>\n<table border=\"1\" class=\"dataframe\">\n  <thead>\n    <tr style=\"text-align: right;\">\n      <th></th>\n      <th>date</th>\n      <th>opponent</th>\n      <th>team</th>\n      <th>score_opponent</th>\n      <th>score_team</th>\n    </tr>\n  </thead>\n  <tbody>\n    <tr>\n      <th>0</th>\n      <td>9/5/2002</td>\n      <td>Giants</td>\n      <td>49ers</td>\n      <td>13</td>\n      <td>16</td>\n    </tr>\n    <tr>\n      <th>1</th>\n      <td>9/8/2002</td>\n      <td>Bills</td>\n      <td>Jets</td>\n      <td>31</td>\n      <td>37</td>\n    </tr>\n    <tr>\n      <th>2</th>\n      <td>9/8/2002</td>\n      <td>Bears</td>\n      <td>Vikings</td>\n      <td>27</td>\n      <td>23</td>\n    </tr>\n    <tr>\n      <th>3</th>\n      <td>9/8/2002</td>\n      <td>Bengals</td>\n      <td>Chargers</td>\n      <td>6</td>\n      <td>34</td>\n    </tr>\n    <tr>\n      <th>4</th>\n      <td>9/8/2002</td>\n      <td>Browns</td>\n      <td>Chiefs</td>\n      <td>39</td>\n      <td>40</td>\n    </tr>\n    <tr>\n      <th>...</th>\n      <td>...</td>\n      <td>...</td>\n      <td>...</td>\n      <td>...</td>\n      <td>...</td>\n    </tr>\n    <tr>\n      <th>5636</th>\n      <td>1/22/2023</td>\n      <td>Bills</td>\n      <td>Bengals</td>\n      <td>10</td>\n      <td>27</td>\n    </tr>\n    <tr>\n      <th>5637</th>\n      <td>1/22/2023</td>\n      <td>49ers</td>\n      <td>Cowboys</td>\n      <td>19</td>\n      <td>12</td>\n    </tr>\n    <tr>\n      <th>5638</th>\n      <td>1/29/2023</td>\n      <td>Eagles</td>\n      <td>49ers</td>\n      <td>31</td>\n      <td>7</td>\n    </tr>\n    <tr>\n      <th>5639</th>\n      <td>1/29/2023</td>\n      <td>Chiefs</td>\n      <td>Bengals</td>\n      <td>23</td>\n      <td>20</td>\n    </tr>\n    <tr>\n      <th>5640</th>\n      <td>2/12/2023</td>\n      <td>Eagles</td>\n      <td>Chiefs</td>\n      <td>35</td>\n      <td>38</td>\n    </tr>\n  </tbody>\n</table>\n<p>5641 rows × 5 columns</p>\n</div>"
          },
          "metadata": {}
        }
      ],
      "execution_count": 16,
      "metadata": {
        "gather": {
          "logged": 1703908840653
        },
        "jupyter": {
          "outputs_hidden": false,
          "source_hidden": false
        },
        "nteract": {
          "transient": {
            "deleting": false
          }
        }
      }
    },
    {
      "cell_type": "code",
      "source": [
        "win_loss2 = win_loss2.rename(columns = {\"opponent\":\"team\", \"team\":\"opponent\", \"score_opponent\":\"score_team\",\"score_team\":\"score_opponent\"})"
      ],
      "outputs": [],
      "execution_count": 17,
      "metadata": {
        "gather": {
          "logged": 1703908840934
        },
        "jupyter": {
          "outputs_hidden": false,
          "source_hidden": false
        },
        "nteract": {
          "transient": {
            "deleting": false
          }
        }
      }
    },
    {
      "cell_type": "code",
      "source": [
        "win_loss2"
      ],
      "outputs": [
        {
          "output_type": "execute_result",
          "execution_count": 18,
          "data": {
            "text/plain": "           date     team  opponent  score_team  score_opponent\n0      9/5/2002   Giants     49ers          13              16\n1      9/8/2002    Bills      Jets          31              37\n2      9/8/2002    Bears   Vikings          27              23\n3      9/8/2002  Bengals  Chargers           6              34\n4      9/8/2002   Browns    Chiefs          39              40\n...         ...      ...       ...         ...             ...\n5636  1/22/2023    Bills   Bengals          10              27\n5637  1/22/2023    49ers   Cowboys          19              12\n5638  1/29/2023   Eagles     49ers          31               7\n5639  1/29/2023   Chiefs   Bengals          23              20\n5640  2/12/2023   Eagles    Chiefs          35              38\n\n[5641 rows x 5 columns]",
            "text/html": "<div>\n<style scoped>\n    .dataframe tbody tr th:only-of-type {\n        vertical-align: middle;\n    }\n\n    .dataframe tbody tr th {\n        vertical-align: top;\n    }\n\n    .dataframe thead th {\n        text-align: right;\n    }\n</style>\n<table border=\"1\" class=\"dataframe\">\n  <thead>\n    <tr style=\"text-align: right;\">\n      <th></th>\n      <th>date</th>\n      <th>team</th>\n      <th>opponent</th>\n      <th>score_team</th>\n      <th>score_opponent</th>\n    </tr>\n  </thead>\n  <tbody>\n    <tr>\n      <th>0</th>\n      <td>9/5/2002</td>\n      <td>Giants</td>\n      <td>49ers</td>\n      <td>13</td>\n      <td>16</td>\n    </tr>\n    <tr>\n      <th>1</th>\n      <td>9/8/2002</td>\n      <td>Bills</td>\n      <td>Jets</td>\n      <td>31</td>\n      <td>37</td>\n    </tr>\n    <tr>\n      <th>2</th>\n      <td>9/8/2002</td>\n      <td>Bears</td>\n      <td>Vikings</td>\n      <td>27</td>\n      <td>23</td>\n    </tr>\n    <tr>\n      <th>3</th>\n      <td>9/8/2002</td>\n      <td>Bengals</td>\n      <td>Chargers</td>\n      <td>6</td>\n      <td>34</td>\n    </tr>\n    <tr>\n      <th>4</th>\n      <td>9/8/2002</td>\n      <td>Browns</td>\n      <td>Chiefs</td>\n      <td>39</td>\n      <td>40</td>\n    </tr>\n    <tr>\n      <th>...</th>\n      <td>...</td>\n      <td>...</td>\n      <td>...</td>\n      <td>...</td>\n      <td>...</td>\n    </tr>\n    <tr>\n      <th>5636</th>\n      <td>1/22/2023</td>\n      <td>Bills</td>\n      <td>Bengals</td>\n      <td>10</td>\n      <td>27</td>\n    </tr>\n    <tr>\n      <th>5637</th>\n      <td>1/22/2023</td>\n      <td>49ers</td>\n      <td>Cowboys</td>\n      <td>19</td>\n      <td>12</td>\n    </tr>\n    <tr>\n      <th>5638</th>\n      <td>1/29/2023</td>\n      <td>Eagles</td>\n      <td>49ers</td>\n      <td>31</td>\n      <td>7</td>\n    </tr>\n    <tr>\n      <th>5639</th>\n      <td>1/29/2023</td>\n      <td>Chiefs</td>\n      <td>Bengals</td>\n      <td>23</td>\n      <td>20</td>\n    </tr>\n    <tr>\n      <th>5640</th>\n      <td>2/12/2023</td>\n      <td>Eagles</td>\n      <td>Chiefs</td>\n      <td>35</td>\n      <td>38</td>\n    </tr>\n  </tbody>\n</table>\n<p>5641 rows × 5 columns</p>\n</div>"
          },
          "metadata": {}
        }
      ],
      "execution_count": 18,
      "metadata": {
        "gather": {
          "logged": 1703908841241
        },
        "jupyter": {
          "outputs_hidden": false,
          "source_hidden": false
        },
        "nteract": {
          "transient": {
            "deleting": false
          }
        }
      }
    },
    {
      "cell_type": "code",
      "source": [
        "win_loss = pd.concat([win_loss, win_loss2])"
      ],
      "outputs": [],
      "execution_count": 19,
      "metadata": {
        "gather": {
          "logged": 1703908841573
        },
        "jupyter": {
          "outputs_hidden": false,
          "source_hidden": false
        },
        "nteract": {
          "transient": {
            "deleting": false
          }
        }
      }
    },
    {
      "cell_type": "code",
      "source": [
        "win_loss"
      ],
      "outputs": [
        {
          "output_type": "execute_result",
          "execution_count": 20,
          "data": {
            "text/plain": "           date      team opponent  score_team  score_opponent\n0      9/5/2002     49ers   Giants          16              13\n1      9/8/2002      Jets    Bills          37              31\n2      9/8/2002   Vikings    Bears          23              27\n3      9/8/2002  Chargers  Bengals          34               6\n4      9/8/2002    Chiefs   Browns          40              39\n...         ...       ...      ...         ...             ...\n5636  1/22/2023     Bills  Bengals          10              27\n5637  1/22/2023     49ers  Cowboys          19              12\n5638  1/29/2023    Eagles    49ers          31               7\n5639  1/29/2023    Chiefs  Bengals          23              20\n5640  2/12/2023    Eagles   Chiefs          35              38\n\n[11282 rows x 5 columns]",
            "text/html": "<div>\n<style scoped>\n    .dataframe tbody tr th:only-of-type {\n        vertical-align: middle;\n    }\n\n    .dataframe tbody tr th {\n        vertical-align: top;\n    }\n\n    .dataframe thead th {\n        text-align: right;\n    }\n</style>\n<table border=\"1\" class=\"dataframe\">\n  <thead>\n    <tr style=\"text-align: right;\">\n      <th></th>\n      <th>date</th>\n      <th>team</th>\n      <th>opponent</th>\n      <th>score_team</th>\n      <th>score_opponent</th>\n    </tr>\n  </thead>\n  <tbody>\n    <tr>\n      <th>0</th>\n      <td>9/5/2002</td>\n      <td>49ers</td>\n      <td>Giants</td>\n      <td>16</td>\n      <td>13</td>\n    </tr>\n    <tr>\n      <th>1</th>\n      <td>9/8/2002</td>\n      <td>Jets</td>\n      <td>Bills</td>\n      <td>37</td>\n      <td>31</td>\n    </tr>\n    <tr>\n      <th>2</th>\n      <td>9/8/2002</td>\n      <td>Vikings</td>\n      <td>Bears</td>\n      <td>23</td>\n      <td>27</td>\n    </tr>\n    <tr>\n      <th>3</th>\n      <td>9/8/2002</td>\n      <td>Chargers</td>\n      <td>Bengals</td>\n      <td>34</td>\n      <td>6</td>\n    </tr>\n    <tr>\n      <th>4</th>\n      <td>9/8/2002</td>\n      <td>Chiefs</td>\n      <td>Browns</td>\n      <td>40</td>\n      <td>39</td>\n    </tr>\n    <tr>\n      <th>...</th>\n      <td>...</td>\n      <td>...</td>\n      <td>...</td>\n      <td>...</td>\n      <td>...</td>\n    </tr>\n    <tr>\n      <th>5636</th>\n      <td>1/22/2023</td>\n      <td>Bills</td>\n      <td>Bengals</td>\n      <td>10</td>\n      <td>27</td>\n    </tr>\n    <tr>\n      <th>5637</th>\n      <td>1/22/2023</td>\n      <td>49ers</td>\n      <td>Cowboys</td>\n      <td>19</td>\n      <td>12</td>\n    </tr>\n    <tr>\n      <th>5638</th>\n      <td>1/29/2023</td>\n      <td>Eagles</td>\n      <td>49ers</td>\n      <td>31</td>\n      <td>7</td>\n    </tr>\n    <tr>\n      <th>5639</th>\n      <td>1/29/2023</td>\n      <td>Chiefs</td>\n      <td>Bengals</td>\n      <td>23</td>\n      <td>20</td>\n    </tr>\n    <tr>\n      <th>5640</th>\n      <td>2/12/2023</td>\n      <td>Eagles</td>\n      <td>Chiefs</td>\n      <td>35</td>\n      <td>38</td>\n    </tr>\n  </tbody>\n</table>\n<p>11282 rows × 5 columns</p>\n</div>"
          },
          "metadata": {}
        }
      ],
      "execution_count": 20,
      "metadata": {
        "gather": {
          "logged": 1703908841897
        },
        "jupyter": {
          "outputs_hidden": false,
          "source_hidden": false
        },
        "nteract": {
          "transient": {
            "deleting": false
          }
        }
      }
    },
    {
      "cell_type": "code",
      "source": [
        "dates = pd.to_datetime(win_loss[\"date\"])"
      ],
      "outputs": [],
      "execution_count": 21,
      "metadata": {
        "gather": {
          "logged": 1703908842244
        },
        "jupyter": {
          "outputs_hidden": false,
          "source_hidden": false
        },
        "nteract": {
          "transient": {
            "deleting": false
          }
        }
      }
    },
    {
      "cell_type": "code",
      "source": [
        "win_loss[\"date\"] = dates"
      ],
      "outputs": [],
      "execution_count": 22,
      "metadata": {
        "gather": {
          "logged": 1703908842576
        },
        "jupyter": {
          "outputs_hidden": false,
          "source_hidden": false
        },
        "nteract": {
          "transient": {
            "deleting": false
          }
        }
      }
    },
    {
      "cell_type": "code",
      "source": [
        "win_loss = filter_out_postseason(win_loss, \"date\")\n",
        "win_loss"
      ],
      "outputs": [
        {
          "output_type": "execute_result",
          "execution_count": 23,
          "data": {
            "text/plain": "           date        team   opponent  score_team  score_opponent\n0    2002-09-05       49ers     Giants          16              13\n1    2002-09-08        Jets      Bills          37              31\n2    2002-09-08     Vikings      Bears          23              27\n3    2002-09-08    Chargers    Bengals          34               6\n4    2002-09-08      Chiefs     Browns          40              39\n...         ...         ...        ...         ...             ...\n5623 2023-01-08      Eagles     Giants          22              16\n5624 2023-01-08       49ers  Cardinals          38              13\n5625 2023-01-08    Seahawks       Rams          19              16\n5626 2023-01-08  Commanders    Cowboys          26               6\n5627 2023-01-08     Packers      Lions          16              20\n\n[10824 rows x 5 columns]",
            "text/html": "<div>\n<style scoped>\n    .dataframe tbody tr th:only-of-type {\n        vertical-align: middle;\n    }\n\n    .dataframe tbody tr th {\n        vertical-align: top;\n    }\n\n    .dataframe thead th {\n        text-align: right;\n    }\n</style>\n<table border=\"1\" class=\"dataframe\">\n  <thead>\n    <tr style=\"text-align: right;\">\n      <th></th>\n      <th>date</th>\n      <th>team</th>\n      <th>opponent</th>\n      <th>score_team</th>\n      <th>score_opponent</th>\n    </tr>\n  </thead>\n  <tbody>\n    <tr>\n      <th>0</th>\n      <td>2002-09-05</td>\n      <td>49ers</td>\n      <td>Giants</td>\n      <td>16</td>\n      <td>13</td>\n    </tr>\n    <tr>\n      <th>1</th>\n      <td>2002-09-08</td>\n      <td>Jets</td>\n      <td>Bills</td>\n      <td>37</td>\n      <td>31</td>\n    </tr>\n    <tr>\n      <th>2</th>\n      <td>2002-09-08</td>\n      <td>Vikings</td>\n      <td>Bears</td>\n      <td>23</td>\n      <td>27</td>\n    </tr>\n    <tr>\n      <th>3</th>\n      <td>2002-09-08</td>\n      <td>Chargers</td>\n      <td>Bengals</td>\n      <td>34</td>\n      <td>6</td>\n    </tr>\n    <tr>\n      <th>4</th>\n      <td>2002-09-08</td>\n      <td>Chiefs</td>\n      <td>Browns</td>\n      <td>40</td>\n      <td>39</td>\n    </tr>\n    <tr>\n      <th>...</th>\n      <td>...</td>\n      <td>...</td>\n      <td>...</td>\n      <td>...</td>\n      <td>...</td>\n    </tr>\n    <tr>\n      <th>5623</th>\n      <td>2023-01-08</td>\n      <td>Eagles</td>\n      <td>Giants</td>\n      <td>22</td>\n      <td>16</td>\n    </tr>\n    <tr>\n      <th>5624</th>\n      <td>2023-01-08</td>\n      <td>49ers</td>\n      <td>Cardinals</td>\n      <td>38</td>\n      <td>13</td>\n    </tr>\n    <tr>\n      <th>5625</th>\n      <td>2023-01-08</td>\n      <td>Seahawks</td>\n      <td>Rams</td>\n      <td>19</td>\n      <td>16</td>\n    </tr>\n    <tr>\n      <th>5626</th>\n      <td>2023-01-08</td>\n      <td>Commanders</td>\n      <td>Cowboys</td>\n      <td>26</td>\n      <td>6</td>\n    </tr>\n    <tr>\n      <th>5627</th>\n      <td>2023-01-08</td>\n      <td>Packers</td>\n      <td>Lions</td>\n      <td>16</td>\n      <td>20</td>\n    </tr>\n  </tbody>\n</table>\n<p>10824 rows × 5 columns</p>\n</div>"
          },
          "metadata": {}
        }
      ],
      "execution_count": 23,
      "metadata": {
        "gather": {
          "logged": 1703908842929
        },
        "jupyter": {
          "outputs_hidden": false,
          "source_hidden": false
        },
        "nteract": {
          "transient": {
            "deleting": false
          }
        }
      }
    },
    {
      "cell_type": "code",
      "source": [
        "win_loss = simplify_date(win_loss, \"date\")\n",
        "win_loss"
      ],
      "outputs": [
        {
          "output_type": "execute_result",
          "execution_count": 24,
          "data": {
            "text/plain": "      date        team   opponent  score_team  score_opponent\n0     2002       49ers     Giants          16              13\n1     2002        Jets      Bills          37              31\n2     2002     Vikings      Bears          23              27\n3     2002    Chargers    Bengals          34               6\n4     2002      Chiefs     Browns          40              39\n...    ...         ...        ...         ...             ...\n5623  2022      Eagles     Giants          22              16\n5624  2022       49ers  Cardinals          38              13\n5625  2022    Seahawks       Rams          19              16\n5626  2022  Commanders    Cowboys          26               6\n5627  2022     Packers      Lions          16              20\n\n[10824 rows x 5 columns]",
            "text/html": "<div>\n<style scoped>\n    .dataframe tbody tr th:only-of-type {\n        vertical-align: middle;\n    }\n\n    .dataframe tbody tr th {\n        vertical-align: top;\n    }\n\n    .dataframe thead th {\n        text-align: right;\n    }\n</style>\n<table border=\"1\" class=\"dataframe\">\n  <thead>\n    <tr style=\"text-align: right;\">\n      <th></th>\n      <th>date</th>\n      <th>team</th>\n      <th>opponent</th>\n      <th>score_team</th>\n      <th>score_opponent</th>\n    </tr>\n  </thead>\n  <tbody>\n    <tr>\n      <th>0</th>\n      <td>2002</td>\n      <td>49ers</td>\n      <td>Giants</td>\n      <td>16</td>\n      <td>13</td>\n    </tr>\n    <tr>\n      <th>1</th>\n      <td>2002</td>\n      <td>Jets</td>\n      <td>Bills</td>\n      <td>37</td>\n      <td>31</td>\n    </tr>\n    <tr>\n      <th>2</th>\n      <td>2002</td>\n      <td>Vikings</td>\n      <td>Bears</td>\n      <td>23</td>\n      <td>27</td>\n    </tr>\n    <tr>\n      <th>3</th>\n      <td>2002</td>\n      <td>Chargers</td>\n      <td>Bengals</td>\n      <td>34</td>\n      <td>6</td>\n    </tr>\n    <tr>\n      <th>4</th>\n      <td>2002</td>\n      <td>Chiefs</td>\n      <td>Browns</td>\n      <td>40</td>\n      <td>39</td>\n    </tr>\n    <tr>\n      <th>...</th>\n      <td>...</td>\n      <td>...</td>\n      <td>...</td>\n      <td>...</td>\n      <td>...</td>\n    </tr>\n    <tr>\n      <th>5623</th>\n      <td>2022</td>\n      <td>Eagles</td>\n      <td>Giants</td>\n      <td>22</td>\n      <td>16</td>\n    </tr>\n    <tr>\n      <th>5624</th>\n      <td>2022</td>\n      <td>49ers</td>\n      <td>Cardinals</td>\n      <td>38</td>\n      <td>13</td>\n    </tr>\n    <tr>\n      <th>5625</th>\n      <td>2022</td>\n      <td>Seahawks</td>\n      <td>Rams</td>\n      <td>19</td>\n      <td>16</td>\n    </tr>\n    <tr>\n      <th>5626</th>\n      <td>2022</td>\n      <td>Commanders</td>\n      <td>Cowboys</td>\n      <td>26</td>\n      <td>6</td>\n    </tr>\n    <tr>\n      <th>5627</th>\n      <td>2022</td>\n      <td>Packers</td>\n      <td>Lions</td>\n      <td>16</td>\n      <td>20</td>\n    </tr>\n  </tbody>\n</table>\n<p>10824 rows × 5 columns</p>\n</div>"
          },
          "metadata": {}
        }
      ],
      "execution_count": 24,
      "metadata": {
        "gather": {
          "logged": 1703908843821
        },
        "jupyter": {
          "outputs_hidden": false,
          "source_hidden": false
        },
        "nteract": {
          "transient": {
            "deleting": false
          }
        }
      }
    },
    {
      "cell_type": "code",
      "source": [
        "win_loss[\"win\"] = np.zeros(len(win_loss))"
      ],
      "outputs": [],
      "execution_count": 25,
      "metadata": {
        "gather": {
          "logged": 1703908844100
        },
        "jupyter": {
          "outputs_hidden": false,
          "source_hidden": false
        },
        "nteract": {
          "transient": {
            "deleting": false
          }
        }
      }
    },
    {
      "cell_type": "code",
      "source": [
        "win_loss[\"win\"] = win_loss[\"win\"].mask(win_loss[\"score_team\"] > win_loss[\"score_opponent\"],1)"
      ],
      "outputs": [],
      "execution_count": 26,
      "metadata": {
        "gather": {
          "logged": 1703908844292
        },
        "jupyter": {
          "outputs_hidden": false,
          "source_hidden": false
        },
        "nteract": {
          "transient": {
            "deleting": false
          }
        }
      }
    },
    {
      "cell_type": "code",
      "source": [
        "win_loss"
      ],
      "outputs": [
        {
          "output_type": "execute_result",
          "execution_count": 27,
          "data": {
            "text/plain": "      date        team   opponent  score_team  score_opponent  win\n0     2002       49ers     Giants          16              13  1.0\n1     2002        Jets      Bills          37              31  1.0\n2     2002     Vikings      Bears          23              27  0.0\n3     2002    Chargers    Bengals          34               6  1.0\n4     2002      Chiefs     Browns          40              39  1.0\n...    ...         ...        ...         ...             ...  ...\n5623  2022      Eagles     Giants          22              16  1.0\n5624  2022       49ers  Cardinals          38              13  1.0\n5625  2022    Seahawks       Rams          19              16  1.0\n5626  2022  Commanders    Cowboys          26               6  1.0\n5627  2022     Packers      Lions          16              20  0.0\n\n[10824 rows x 6 columns]",
            "text/html": "<div>\n<style scoped>\n    .dataframe tbody tr th:only-of-type {\n        vertical-align: middle;\n    }\n\n    .dataframe tbody tr th {\n        vertical-align: top;\n    }\n\n    .dataframe thead th {\n        text-align: right;\n    }\n</style>\n<table border=\"1\" class=\"dataframe\">\n  <thead>\n    <tr style=\"text-align: right;\">\n      <th></th>\n      <th>date</th>\n      <th>team</th>\n      <th>opponent</th>\n      <th>score_team</th>\n      <th>score_opponent</th>\n      <th>win</th>\n    </tr>\n  </thead>\n  <tbody>\n    <tr>\n      <th>0</th>\n      <td>2002</td>\n      <td>49ers</td>\n      <td>Giants</td>\n      <td>16</td>\n      <td>13</td>\n      <td>1.0</td>\n    </tr>\n    <tr>\n      <th>1</th>\n      <td>2002</td>\n      <td>Jets</td>\n      <td>Bills</td>\n      <td>37</td>\n      <td>31</td>\n      <td>1.0</td>\n    </tr>\n    <tr>\n      <th>2</th>\n      <td>2002</td>\n      <td>Vikings</td>\n      <td>Bears</td>\n      <td>23</td>\n      <td>27</td>\n      <td>0.0</td>\n    </tr>\n    <tr>\n      <th>3</th>\n      <td>2002</td>\n      <td>Chargers</td>\n      <td>Bengals</td>\n      <td>34</td>\n      <td>6</td>\n      <td>1.0</td>\n    </tr>\n    <tr>\n      <th>4</th>\n      <td>2002</td>\n      <td>Chiefs</td>\n      <td>Browns</td>\n      <td>40</td>\n      <td>39</td>\n      <td>1.0</td>\n    </tr>\n    <tr>\n      <th>...</th>\n      <td>...</td>\n      <td>...</td>\n      <td>...</td>\n      <td>...</td>\n      <td>...</td>\n      <td>...</td>\n    </tr>\n    <tr>\n      <th>5623</th>\n      <td>2022</td>\n      <td>Eagles</td>\n      <td>Giants</td>\n      <td>22</td>\n      <td>16</td>\n      <td>1.0</td>\n    </tr>\n    <tr>\n      <th>5624</th>\n      <td>2022</td>\n      <td>49ers</td>\n      <td>Cardinals</td>\n      <td>38</td>\n      <td>13</td>\n      <td>1.0</td>\n    </tr>\n    <tr>\n      <th>5625</th>\n      <td>2022</td>\n      <td>Seahawks</td>\n      <td>Rams</td>\n      <td>19</td>\n      <td>16</td>\n      <td>1.0</td>\n    </tr>\n    <tr>\n      <th>5626</th>\n      <td>2022</td>\n      <td>Commanders</td>\n      <td>Cowboys</td>\n      <td>26</td>\n      <td>6</td>\n      <td>1.0</td>\n    </tr>\n    <tr>\n      <th>5627</th>\n      <td>2022</td>\n      <td>Packers</td>\n      <td>Lions</td>\n      <td>16</td>\n      <td>20</td>\n      <td>0.0</td>\n    </tr>\n  </tbody>\n</table>\n<p>10824 rows × 6 columns</p>\n</div>"
          },
          "metadata": {}
        }
      ],
      "execution_count": 27,
      "metadata": {
        "gather": {
          "logged": 1703908844482
        },
        "jupyter": {
          "outputs_hidden": false,
          "source_hidden": false
        },
        "nteract": {
          "transient": {
            "deleting": false
          }
        }
      }
    },
    {
      "cell_type": "code",
      "source": [
        "win_loss = win_loss.sort_values(by = [\"date\", \"team\"])"
      ],
      "outputs": [],
      "execution_count": 28,
      "metadata": {
        "gather": {
          "logged": 1703908844672
        },
        "jupyter": {
          "outputs_hidden": false,
          "source_hidden": false
        },
        "nteract": {
          "transient": {
            "deleting": false
          }
        }
      }
    },
    {
      "cell_type": "code",
      "source": [
        "win_loss"
      ],
      "outputs": [
        {
          "output_type": "execute_result",
          "execution_count": 29,
          "data": {
            "text/plain": "      date     team  opponent  score_team  score_opponent  win\n0     2002    49ers    Giants          16              13  1.0\n87    2002    49ers  Seahawks          28              21  1.0\n93    2002    49ers    Saints          27              35  0.0\n125   2002    49ers   Raiders          23              20  1.0\n153   2002    49ers  Chargers          17              20  0.0\n...    ...      ...       ...         ...             ...  ...\n5517  2022  Vikings   Cowboys           3              40  0.0\n5523  2022  Vikings  Patriots          33              26  1.0\n5541  2022  Vikings      Jets          27              22  1.0\n5566  2022  Vikings     Colts          39              36  1.0\n5585  2022  Vikings    Giants          27              24  1.0\n\n[10824 rows x 6 columns]",
            "text/html": "<div>\n<style scoped>\n    .dataframe tbody tr th:only-of-type {\n        vertical-align: middle;\n    }\n\n    .dataframe tbody tr th {\n        vertical-align: top;\n    }\n\n    .dataframe thead th {\n        text-align: right;\n    }\n</style>\n<table border=\"1\" class=\"dataframe\">\n  <thead>\n    <tr style=\"text-align: right;\">\n      <th></th>\n      <th>date</th>\n      <th>team</th>\n      <th>opponent</th>\n      <th>score_team</th>\n      <th>score_opponent</th>\n      <th>win</th>\n    </tr>\n  </thead>\n  <tbody>\n    <tr>\n      <th>0</th>\n      <td>2002</td>\n      <td>49ers</td>\n      <td>Giants</td>\n      <td>16</td>\n      <td>13</td>\n      <td>1.0</td>\n    </tr>\n    <tr>\n      <th>87</th>\n      <td>2002</td>\n      <td>49ers</td>\n      <td>Seahawks</td>\n      <td>28</td>\n      <td>21</td>\n      <td>1.0</td>\n    </tr>\n    <tr>\n      <th>93</th>\n      <td>2002</td>\n      <td>49ers</td>\n      <td>Saints</td>\n      <td>27</td>\n      <td>35</td>\n      <td>0.0</td>\n    </tr>\n    <tr>\n      <th>125</th>\n      <td>2002</td>\n      <td>49ers</td>\n      <td>Raiders</td>\n      <td>23</td>\n      <td>20</td>\n      <td>1.0</td>\n    </tr>\n    <tr>\n      <th>153</th>\n      <td>2002</td>\n      <td>49ers</td>\n      <td>Chargers</td>\n      <td>17</td>\n      <td>20</td>\n      <td>0.0</td>\n    </tr>\n    <tr>\n      <th>...</th>\n      <td>...</td>\n      <td>...</td>\n      <td>...</td>\n      <td>...</td>\n      <td>...</td>\n      <td>...</td>\n    </tr>\n    <tr>\n      <th>5517</th>\n      <td>2022</td>\n      <td>Vikings</td>\n      <td>Cowboys</td>\n      <td>3</td>\n      <td>40</td>\n      <td>0.0</td>\n    </tr>\n    <tr>\n      <th>5523</th>\n      <td>2022</td>\n      <td>Vikings</td>\n      <td>Patriots</td>\n      <td>33</td>\n      <td>26</td>\n      <td>1.0</td>\n    </tr>\n    <tr>\n      <th>5541</th>\n      <td>2022</td>\n      <td>Vikings</td>\n      <td>Jets</td>\n      <td>27</td>\n      <td>22</td>\n      <td>1.0</td>\n    </tr>\n    <tr>\n      <th>5566</th>\n      <td>2022</td>\n      <td>Vikings</td>\n      <td>Colts</td>\n      <td>39</td>\n      <td>36</td>\n      <td>1.0</td>\n    </tr>\n    <tr>\n      <th>5585</th>\n      <td>2022</td>\n      <td>Vikings</td>\n      <td>Giants</td>\n      <td>27</td>\n      <td>24</td>\n      <td>1.0</td>\n    </tr>\n  </tbody>\n</table>\n<p>10824 rows × 6 columns</p>\n</div>"
          },
          "metadata": {}
        }
      ],
      "execution_count": 29,
      "metadata": {
        "gather": {
          "logged": 1703908844857
        },
        "jupyter": {
          "outputs_hidden": false,
          "source_hidden": false
        },
        "nteract": {
          "transient": {
            "deleting": false
          }
        }
      }
    },
    {
      "cell_type": "code",
      "source": [
        "win_loss = win_loss.drop([\"score_opponent\", \"score_team\"], axis = 1)"
      ],
      "outputs": [],
      "execution_count": 30,
      "metadata": {
        "gather": {
          "logged": 1703908845115
        },
        "jupyter": {
          "outputs_hidden": false,
          "source_hidden": false
        },
        "nteract": {
          "transient": {
            "deleting": false
          }
        }
      }
    },
    {
      "cell_type": "code",
      "source": [
        "win_loss"
      ],
      "outputs": [
        {
          "output_type": "execute_result",
          "execution_count": 31,
          "data": {
            "text/plain": "      date     team  opponent  win\n0     2002    49ers    Giants  1.0\n87    2002    49ers  Seahawks  1.0\n93    2002    49ers    Saints  0.0\n125   2002    49ers   Raiders  1.0\n153   2002    49ers  Chargers  0.0\n...    ...      ...       ...  ...\n5517  2022  Vikings   Cowboys  0.0\n5523  2022  Vikings  Patriots  1.0\n5541  2022  Vikings      Jets  1.0\n5566  2022  Vikings     Colts  1.0\n5585  2022  Vikings    Giants  1.0\n\n[10824 rows x 4 columns]",
            "text/html": "<div>\n<style scoped>\n    .dataframe tbody tr th:only-of-type {\n        vertical-align: middle;\n    }\n\n    .dataframe tbody tr th {\n        vertical-align: top;\n    }\n\n    .dataframe thead th {\n        text-align: right;\n    }\n</style>\n<table border=\"1\" class=\"dataframe\">\n  <thead>\n    <tr style=\"text-align: right;\">\n      <th></th>\n      <th>date</th>\n      <th>team</th>\n      <th>opponent</th>\n      <th>win</th>\n    </tr>\n  </thead>\n  <tbody>\n    <tr>\n      <th>0</th>\n      <td>2002</td>\n      <td>49ers</td>\n      <td>Giants</td>\n      <td>1.0</td>\n    </tr>\n    <tr>\n      <th>87</th>\n      <td>2002</td>\n      <td>49ers</td>\n      <td>Seahawks</td>\n      <td>1.0</td>\n    </tr>\n    <tr>\n      <th>93</th>\n      <td>2002</td>\n      <td>49ers</td>\n      <td>Saints</td>\n      <td>0.0</td>\n    </tr>\n    <tr>\n      <th>125</th>\n      <td>2002</td>\n      <td>49ers</td>\n      <td>Raiders</td>\n      <td>1.0</td>\n    </tr>\n    <tr>\n      <th>153</th>\n      <td>2002</td>\n      <td>49ers</td>\n      <td>Chargers</td>\n      <td>0.0</td>\n    </tr>\n    <tr>\n      <th>...</th>\n      <td>...</td>\n      <td>...</td>\n      <td>...</td>\n      <td>...</td>\n    </tr>\n    <tr>\n      <th>5517</th>\n      <td>2022</td>\n      <td>Vikings</td>\n      <td>Cowboys</td>\n      <td>0.0</td>\n    </tr>\n    <tr>\n      <th>5523</th>\n      <td>2022</td>\n      <td>Vikings</td>\n      <td>Patriots</td>\n      <td>1.0</td>\n    </tr>\n    <tr>\n      <th>5541</th>\n      <td>2022</td>\n      <td>Vikings</td>\n      <td>Jets</td>\n      <td>1.0</td>\n    </tr>\n    <tr>\n      <th>5566</th>\n      <td>2022</td>\n      <td>Vikings</td>\n      <td>Colts</td>\n      <td>1.0</td>\n    </tr>\n    <tr>\n      <th>5585</th>\n      <td>2022</td>\n      <td>Vikings</td>\n      <td>Giants</td>\n      <td>1.0</td>\n    </tr>\n  </tbody>\n</table>\n<p>10824 rows × 4 columns</p>\n</div>"
          },
          "metadata": {}
        }
      ],
      "execution_count": 31,
      "metadata": {
        "gather": {
          "logged": 1703908845311
        },
        "jupyter": {
          "outputs_hidden": false,
          "source_hidden": false
        },
        "nteract": {
          "transient": {
            "deleting": false
          }
        }
      }
    },
    {
      "cell_type": "code",
      "source": [
        "team_wins = win_loss[[\"date\", \"team\",\"win\"]].groupby([\"date\", \"team\"]).sum()\n"
      ],
      "outputs": [],
      "execution_count": 32,
      "metadata": {
        "gather": {
          "logged": 1703908845607
        },
        "jupyter": {
          "outputs_hidden": false,
          "source_hidden": false
        },
        "nteract": {
          "transient": {
            "deleting": false
          }
        }
      }
    },
    {
      "cell_type": "code",
      "source": [
        "team_wins = team_wins.transpose()"
      ],
      "outputs": [],
      "execution_count": 33,
      "metadata": {
        "gather": {
          "logged": 1703908845911
        },
        "jupyter": {
          "outputs_hidden": false,
          "source_hidden": false
        },
        "nteract": {
          "transient": {
            "deleting": false
          }
        }
      }
    },
    {
      "cell_type": "code",
      "source": [
        "team_wins"
      ],
      "outputs": [
        {
          "output_type": "execute_result",
          "execution_count": 34,
          "data": {
            "text/plain": "date  2002                                                                   \\\nteam 49ers Bears Bengals Bills Broncos Browns Buccaneers Cardinals Chargers   \nwin   11.0   4.0     2.0   8.0     9.0    9.0       12.0       5.0      8.0   \n\ndate         ...     2022                                                      \\\nteam Chiefs  ... Patriots Raiders Rams Ravens Saints Seahawks Steelers Texans   \nwin     8.0  ...      8.0     6.0  5.0   10.0    7.0      9.0      9.0    3.0   \n\ndate                 \nteam Titans Vikings  \nwin     7.0    13.0  \n\n[1 rows x 672 columns]",
            "text/html": "<div>\n<style scoped>\n    .dataframe tbody tr th:only-of-type {\n        vertical-align: middle;\n    }\n\n    .dataframe tbody tr th {\n        vertical-align: top;\n    }\n\n    .dataframe thead tr th {\n        text-align: left;\n    }\n</style>\n<table border=\"1\" class=\"dataframe\">\n  <thead>\n    <tr>\n      <th>date</th>\n      <th colspan=\"10\" halign=\"left\">2002</th>\n      <th>...</th>\n      <th colspan=\"10\" halign=\"left\">2022</th>\n    </tr>\n    <tr>\n      <th>team</th>\n      <th>49ers</th>\n      <th>Bears</th>\n      <th>Bengals</th>\n      <th>Bills</th>\n      <th>Broncos</th>\n      <th>Browns</th>\n      <th>Buccaneers</th>\n      <th>Cardinals</th>\n      <th>Chargers</th>\n      <th>Chiefs</th>\n      <th>...</th>\n      <th>Patriots</th>\n      <th>Raiders</th>\n      <th>Rams</th>\n      <th>Ravens</th>\n      <th>Saints</th>\n      <th>Seahawks</th>\n      <th>Steelers</th>\n      <th>Texans</th>\n      <th>Titans</th>\n      <th>Vikings</th>\n    </tr>\n  </thead>\n  <tbody>\n    <tr>\n      <th>win</th>\n      <td>11.0</td>\n      <td>4.0</td>\n      <td>2.0</td>\n      <td>8.0</td>\n      <td>9.0</td>\n      <td>9.0</td>\n      <td>12.0</td>\n      <td>5.0</td>\n      <td>8.0</td>\n      <td>8.0</td>\n      <td>...</td>\n      <td>8.0</td>\n      <td>6.0</td>\n      <td>5.0</td>\n      <td>10.0</td>\n      <td>7.0</td>\n      <td>9.0</td>\n      <td>9.0</td>\n      <td>3.0</td>\n      <td>7.0</td>\n      <td>13.0</td>\n    </tr>\n  </tbody>\n</table>\n<p>1 rows × 672 columns</p>\n</div>"
          },
          "metadata": {}
        }
      ],
      "execution_count": 34,
      "metadata": {
        "gather": {
          "logged": 1703908846205
        },
        "jupyter": {
          "outputs_hidden": false,
          "source_hidden": false
        },
        "nteract": {
          "transient": {
            "deleting": false
          }
        }
      }
    },
    {
      "cell_type": "code",
      "source": [
        "win_loss = generate_opponent_wins(win_loss, \"date\", \"opponent\", team_wins)"
      ],
      "outputs": [],
      "execution_count": 35,
      "metadata": {
        "gather": {
          "logged": 1703908851175
        },
        "jupyter": {
          "outputs_hidden": false,
          "source_hidden": false
        },
        "nteract": {
          "transient": {
            "deleting": false
          }
        }
      }
    },
    {
      "cell_type": "code",
      "source": [
        "win_loss"
      ],
      "outputs": [
        {
          "output_type": "execute_result",
          "execution_count": 36,
          "data": {
            "text/plain": "      date     team  opponent  win  opponent wins\n0     2002    49ers    Giants  1.0           10.0\n87    2002    49ers  Seahawks  1.0            7.0\n93    2002    49ers    Saints  0.0            9.0\n125   2002    49ers   Raiders  1.0           11.0\n153   2002    49ers  Chargers  0.0            8.0\n...    ...      ...       ...  ...            ...\n5517  2022  Vikings   Cowboys  0.0           12.0\n5523  2022  Vikings  Patriots  1.0            8.0\n5541  2022  Vikings      Jets  1.0            7.0\n5566  2022  Vikings     Colts  1.0            4.0\n5585  2022  Vikings    Giants  1.0            9.0\n\n[10824 rows x 5 columns]",
            "text/html": "<div>\n<style scoped>\n    .dataframe tbody tr th:only-of-type {\n        vertical-align: middle;\n    }\n\n    .dataframe tbody tr th {\n        vertical-align: top;\n    }\n\n    .dataframe thead th {\n        text-align: right;\n    }\n</style>\n<table border=\"1\" class=\"dataframe\">\n  <thead>\n    <tr style=\"text-align: right;\">\n      <th></th>\n      <th>date</th>\n      <th>team</th>\n      <th>opponent</th>\n      <th>win</th>\n      <th>opponent wins</th>\n    </tr>\n  </thead>\n  <tbody>\n    <tr>\n      <th>0</th>\n      <td>2002</td>\n      <td>49ers</td>\n      <td>Giants</td>\n      <td>1.0</td>\n      <td>10.0</td>\n    </tr>\n    <tr>\n      <th>87</th>\n      <td>2002</td>\n      <td>49ers</td>\n      <td>Seahawks</td>\n      <td>1.0</td>\n      <td>7.0</td>\n    </tr>\n    <tr>\n      <th>93</th>\n      <td>2002</td>\n      <td>49ers</td>\n      <td>Saints</td>\n      <td>0.0</td>\n      <td>9.0</td>\n    </tr>\n    <tr>\n      <th>125</th>\n      <td>2002</td>\n      <td>49ers</td>\n      <td>Raiders</td>\n      <td>1.0</td>\n      <td>11.0</td>\n    </tr>\n    <tr>\n      <th>153</th>\n      <td>2002</td>\n      <td>49ers</td>\n      <td>Chargers</td>\n      <td>0.0</td>\n      <td>8.0</td>\n    </tr>\n    <tr>\n      <th>...</th>\n      <td>...</td>\n      <td>...</td>\n      <td>...</td>\n      <td>...</td>\n      <td>...</td>\n    </tr>\n    <tr>\n      <th>5517</th>\n      <td>2022</td>\n      <td>Vikings</td>\n      <td>Cowboys</td>\n      <td>0.0</td>\n      <td>12.0</td>\n    </tr>\n    <tr>\n      <th>5523</th>\n      <td>2022</td>\n      <td>Vikings</td>\n      <td>Patriots</td>\n      <td>1.0</td>\n      <td>8.0</td>\n    </tr>\n    <tr>\n      <th>5541</th>\n      <td>2022</td>\n      <td>Vikings</td>\n      <td>Jets</td>\n      <td>1.0</td>\n      <td>7.0</td>\n    </tr>\n    <tr>\n      <th>5566</th>\n      <td>2022</td>\n      <td>Vikings</td>\n      <td>Colts</td>\n      <td>1.0</td>\n      <td>4.0</td>\n    </tr>\n    <tr>\n      <th>5585</th>\n      <td>2022</td>\n      <td>Vikings</td>\n      <td>Giants</td>\n      <td>1.0</td>\n      <td>9.0</td>\n    </tr>\n  </tbody>\n</table>\n<p>10824 rows × 5 columns</p>\n</div>"
          },
          "metadata": {}
        }
      ],
      "execution_count": 36,
      "metadata": {
        "gather": {
          "logged": 1703908851399
        },
        "jupyter": {
          "outputs_hidden": false,
          "source_hidden": false
        },
        "nteract": {
          "transient": {
            "deleting": false
          }
        }
      }
    },
    {
      "cell_type": "code",
      "source": [
        "win_loss = win_loss.drop([\"opponent\", \"win\"], axis = 1)\n",
        "win_loss = win_loss.groupby([\"date\", \"team\"]).mean()\n",
        "win_loss"
      ],
      "outputs": [
        {
          "output_type": "execute_result",
          "execution_count": 37,
          "data": {
            "text/plain": "               opponent wins\ndate team                   \n2002 49ers          8.176471\n     Bears          8.437500\n     Bengals        8.687500\n     Bills          7.687500\n     Broncos        8.562500\n...                      ...\n2022 Seahawks       7.823529\n     Steelers       8.705882\n     Texans         8.058824\n     Titans         8.411765\n     Vikings        7.941176\n\n[672 rows x 1 columns]",
            "text/html": "<div>\n<style scoped>\n    .dataframe tbody tr th:only-of-type {\n        vertical-align: middle;\n    }\n\n    .dataframe tbody tr th {\n        vertical-align: top;\n    }\n\n    .dataframe thead th {\n        text-align: right;\n    }\n</style>\n<table border=\"1\" class=\"dataframe\">\n  <thead>\n    <tr style=\"text-align: right;\">\n      <th></th>\n      <th></th>\n      <th>opponent wins</th>\n    </tr>\n    <tr>\n      <th>date</th>\n      <th>team</th>\n      <th></th>\n    </tr>\n  </thead>\n  <tbody>\n    <tr>\n      <th rowspan=\"5\" valign=\"top\">2002</th>\n      <th>49ers</th>\n      <td>8.176471</td>\n    </tr>\n    <tr>\n      <th>Bears</th>\n      <td>8.437500</td>\n    </tr>\n    <tr>\n      <th>Bengals</th>\n      <td>8.687500</td>\n    </tr>\n    <tr>\n      <th>Bills</th>\n      <td>7.687500</td>\n    </tr>\n    <tr>\n      <th>Broncos</th>\n      <td>8.562500</td>\n    </tr>\n    <tr>\n      <th>...</th>\n      <th>...</th>\n      <td>...</td>\n    </tr>\n    <tr>\n      <th rowspan=\"5\" valign=\"top\">2022</th>\n      <th>Seahawks</th>\n      <td>7.823529</td>\n    </tr>\n    <tr>\n      <th>Steelers</th>\n      <td>8.705882</td>\n    </tr>\n    <tr>\n      <th>Texans</th>\n      <td>8.058824</td>\n    </tr>\n    <tr>\n      <th>Titans</th>\n      <td>8.411765</td>\n    </tr>\n    <tr>\n      <th>Vikings</th>\n      <td>7.941176</td>\n    </tr>\n  </tbody>\n</table>\n<p>672 rows × 1 columns</p>\n</div>"
          },
          "metadata": {}
        }
      ],
      "execution_count": 37,
      "metadata": {
        "gather": {
          "logged": 1703908851689
        },
        "jupyter": {
          "outputs_hidden": false,
          "source_hidden": false
        },
        "nteract": {
          "transient": {
            "deleting": false
          }
        }
      }
    },
    {
      "cell_type": "code",
      "source": [
        "win_loss = win_loss.reset_index()"
      ],
      "outputs": [],
      "execution_count": 38,
      "metadata": {
        "gather": {
          "logged": 1703908851917
        },
        "jupyter": {
          "outputs_hidden": false,
          "source_hidden": false
        },
        "nteract": {
          "transient": {
            "deleting": false
          }
        }
      }
    },
    {
      "cell_type": "code",
      "source": [
        "win_loss = win_loss.rename({\"opponent wins\" : \"avg opp wins\"}, axis = 1)"
      ],
      "outputs": [],
      "execution_count": 39,
      "metadata": {
        "gather": {
          "logged": 1703908852118
        },
        "jupyter": {
          "outputs_hidden": false,
          "source_hidden": false
        },
        "nteract": {
          "transient": {
            "deleting": false
          }
        }
      }
    },
    {
      "cell_type": "code",
      "source": [
        "win_loss = win_loss.replace(team_map)\n",
        "win_loss"
      ],
      "outputs": [
        {
          "output_type": "execute_result",
          "execution_count": 40,
          "data": {
            "text/plain": "     date                 team  avg opp wins\n0    2002  San Francisco 49ers      8.176471\n1    2002        Chicago Bears      8.437500\n2    2002   Cincinnati Bengals      8.687500\n3    2002        Buffalo Bills      7.687500\n4    2002       Denver Broncos      8.562500\n..    ...                  ...           ...\n667  2022     Seattle Seahawks      7.823529\n668  2022  Pittsburgh Steelers      8.705882\n669  2022       Houston Texans      8.058824\n670  2022     Tennessee Titans      8.411765\n671  2022    Minnesota Vikings      7.941176\n\n[672 rows x 3 columns]",
            "text/html": "<div>\n<style scoped>\n    .dataframe tbody tr th:only-of-type {\n        vertical-align: middle;\n    }\n\n    .dataframe tbody tr th {\n        vertical-align: top;\n    }\n\n    .dataframe thead th {\n        text-align: right;\n    }\n</style>\n<table border=\"1\" class=\"dataframe\">\n  <thead>\n    <tr style=\"text-align: right;\">\n      <th></th>\n      <th>date</th>\n      <th>team</th>\n      <th>avg opp wins</th>\n    </tr>\n  </thead>\n  <tbody>\n    <tr>\n      <th>0</th>\n      <td>2002</td>\n      <td>San Francisco 49ers</td>\n      <td>8.176471</td>\n    </tr>\n    <tr>\n      <th>1</th>\n      <td>2002</td>\n      <td>Chicago Bears</td>\n      <td>8.437500</td>\n    </tr>\n    <tr>\n      <th>2</th>\n      <td>2002</td>\n      <td>Cincinnati Bengals</td>\n      <td>8.687500</td>\n    </tr>\n    <tr>\n      <th>3</th>\n      <td>2002</td>\n      <td>Buffalo Bills</td>\n      <td>7.687500</td>\n    </tr>\n    <tr>\n      <th>4</th>\n      <td>2002</td>\n      <td>Denver Broncos</td>\n      <td>8.562500</td>\n    </tr>\n    <tr>\n      <th>...</th>\n      <td>...</td>\n      <td>...</td>\n      <td>...</td>\n    </tr>\n    <tr>\n      <th>667</th>\n      <td>2022</td>\n      <td>Seattle Seahawks</td>\n      <td>7.823529</td>\n    </tr>\n    <tr>\n      <th>668</th>\n      <td>2022</td>\n      <td>Pittsburgh Steelers</td>\n      <td>8.705882</td>\n    </tr>\n    <tr>\n      <th>669</th>\n      <td>2022</td>\n      <td>Houston Texans</td>\n      <td>8.058824</td>\n    </tr>\n    <tr>\n      <th>670</th>\n      <td>2022</td>\n      <td>Tennessee Titans</td>\n      <td>8.411765</td>\n    </tr>\n    <tr>\n      <th>671</th>\n      <td>2022</td>\n      <td>Minnesota Vikings</td>\n      <td>7.941176</td>\n    </tr>\n  </tbody>\n</table>\n<p>672 rows × 3 columns</p>\n</div>"
          },
          "metadata": {}
        }
      ],
      "execution_count": 40,
      "metadata": {
        "gather": {
          "logged": 1703908852337
        },
        "jupyter": {
          "outputs_hidden": false,
          "source_hidden": false
        },
        "nteract": {
          "transient": {
            "deleting": false
          }
        }
      }
    },
    {
      "cell_type": "code",
      "source": [
        "win_loss = win_loss.rename({\"date\": \"Year\", \"team\": \"Team\"}, axis =1)\n",
        "win_loss = win_loss[~win_loss[\"Year\"].isin([2002, 2003])]\n",
        "win_loss = win_loss.set_index([\"Year\", \"Team\"])\n",
        "win_loss"
      ],
      "outputs": [
        {
          "output_type": "execute_result",
          "execution_count": 41,
          "data": {
            "text/plain": "                          avg opp wins\nYear Team                             \n2004 San Francisco 49ers      7.812500\n     Chicago Bears            7.437500\n     Cincinnati Bengals       8.687500\n     Buffalo Bills            8.187500\n     Denver Broncos           7.750000\n...                                ...\n2022 Seattle Seahawks         7.823529\n     Pittsburgh Steelers      8.705882\n     Houston Texans           8.058824\n     Tennessee Titans         8.411765\n     Minnesota Vikings        7.941176\n\n[608 rows x 1 columns]",
            "text/html": "<div>\n<style scoped>\n    .dataframe tbody tr th:only-of-type {\n        vertical-align: middle;\n    }\n\n    .dataframe tbody tr th {\n        vertical-align: top;\n    }\n\n    .dataframe thead th {\n        text-align: right;\n    }\n</style>\n<table border=\"1\" class=\"dataframe\">\n  <thead>\n    <tr style=\"text-align: right;\">\n      <th></th>\n      <th></th>\n      <th>avg opp wins</th>\n    </tr>\n    <tr>\n      <th>Year</th>\n      <th>Team</th>\n      <th></th>\n    </tr>\n  </thead>\n  <tbody>\n    <tr>\n      <th rowspan=\"5\" valign=\"top\">2004</th>\n      <th>San Francisco 49ers</th>\n      <td>7.812500</td>\n    </tr>\n    <tr>\n      <th>Chicago Bears</th>\n      <td>7.437500</td>\n    </tr>\n    <tr>\n      <th>Cincinnati Bengals</th>\n      <td>8.687500</td>\n    </tr>\n    <tr>\n      <th>Buffalo Bills</th>\n      <td>8.187500</td>\n    </tr>\n    <tr>\n      <th>Denver Broncos</th>\n      <td>7.750000</td>\n    </tr>\n    <tr>\n      <th>...</th>\n      <th>...</th>\n      <td>...</td>\n    </tr>\n    <tr>\n      <th rowspan=\"5\" valign=\"top\">2022</th>\n      <th>Seattle Seahawks</th>\n      <td>7.823529</td>\n    </tr>\n    <tr>\n      <th>Pittsburgh Steelers</th>\n      <td>8.705882</td>\n    </tr>\n    <tr>\n      <th>Houston Texans</th>\n      <td>8.058824</td>\n    </tr>\n    <tr>\n      <th>Tennessee Titans</th>\n      <td>8.411765</td>\n    </tr>\n    <tr>\n      <th>Minnesota Vikings</th>\n      <td>7.941176</td>\n    </tr>\n  </tbody>\n</table>\n<p>608 rows × 1 columns</p>\n</div>"
          },
          "metadata": {}
        }
      ],
      "execution_count": 41,
      "metadata": {
        "gather": {
          "logged": 1703908852541
        },
        "jupyter": {
          "outputs_hidden": false,
          "source_hidden": false
        },
        "nteract": {
          "transient": {
            "deleting": false
          }
        }
      }
    },
    {
      "cell_type": "code",
      "source": [
        "stats = stats.reset_index()"
      ],
      "outputs": [],
      "execution_count": 42,
      "metadata": {
        "gather": {
          "logged": 1703908852780
        },
        "jupyter": {
          "outputs_hidden": false,
          "source_hidden": false
        },
        "nteract": {
          "transient": {
            "deleting": false
          }
        }
      }
    },
    {
      "cell_type": "code",
      "source": [
        "stats = stats.sort_values([\"Year\"])\n",
        "stats = stats.replace({\"Baltimore Ravens \":\"Baltimore Ravens\"})\n"
      ],
      "outputs": [],
      "execution_count": 43,
      "metadata": {
        "gather": {
          "logged": 1703908852964
        },
        "jupyter": {
          "outputs_hidden": false,
          "source_hidden": false
        },
        "nteract": {
          "transient": {
            "deleting": false
          }
        }
      }
    },
    {
      "cell_type": "code",
      "source": [
        "stats = stats.set_index([\"Year\", \"Team\"])"
      ],
      "outputs": [],
      "execution_count": 44,
      "metadata": {
        "gather": {
          "logged": 1703908853153
        },
        "jupyter": {
          "outputs_hidden": false,
          "source_hidden": false
        },
        "nteract": {
          "transient": {
            "deleting": false
          }
        }
      }
    },
    {
      "cell_type": "code",
      "source": [
        "stats"
      ],
      "outputs": [
        {
          "output_type": "execute_result",
          "execution_count": 45,
          "data": {
            "text/plain": "                          Wins  Losses  Ties  Passing_Attempts  \\\nYear Team                                                        \n2004 Los Angeles Rams        8       8     0               580   \n     Buffalo Bills           9       7     0               461   \n     New Orleans Saints      8       8     0               542   \n     San Francisco 49ers     2      14     0               561   \n     New York Giants         6      10     0               475   \n...                        ...     ...   ...               ...   \n2022 Atlanta Falcons         7      10     0               415   \n     Los Angeles Rams        5      12     0               531   \n     Arizona Cardinals       4      13     0               664   \n     Buffalo Bills          13       3     0               574   \n     Green Bay Packers       8       9     0               563   \n\n                          Passing_Completions  Passing_Yards  Passing_TDs  \\\nYear Team                                                                   \n2004 Los Angeles Rams                     372           4615           23   \n     Buffalo Bills                        262           3032           21   \n     New Orleans Saints                   309           3810           21   \n     San Francisco 49ers                  325           3455           16   \n     New York Giants                      269           3097           12   \n...                                       ...            ...          ...   \n2022 Atlanta Falcons                      257           2927           17   \n     Los Angeles Rams                     347           3506           16   \n     Arizona Cardinals                    433           3966           17   \n     Buffalo Bills                        361           4291           35   \n     Green Bay Packers                    364           3890           27   \n\n                          Interceptions_Thrown  Rushing _Attempts  \\\nYear Team                                                           \n2004 Los Angeles Rams                       22                381   \n     Buffalo Bills                          17                483   \n     New Orleans Saints                     16                406   \n     San Francisco 49ers                    21                413   \n     New York Giants                        13                424   \n...                                        ...                ...   \n2022 Atlanta Falcons                         9                559   \n     Los Angeles Rams                       15                411   \n     Arizona Cardinals                      17                434   \n     Buffalo Bills                          14                430   \n     Green Bay Packers                      12                456   \n\n                          Rushing_Yards  ...  Assisted_Tackles  Sacks  \\\nYear Team                                ...                            \n2004 Los Angeles Rams              1624  ...               169     34   \n     Buffalo Bills                 1874  ...               377     45   \n     New Orleans Saints            1606  ...               216     37   \n     San Francisco 49ers           1449  ...               220     29   \n     New York Giants               1904  ...               267     40   \n...                                 ...  ...               ...    ...   \n2022 Atlanta Falcons               2718  ...               554     21   \n     Los Angeles Rams              1661  ...               450     38   \n     Arizona Cardinals             1873  ...               421     36   \n     Buffalo Bills                 2232  ...               349     40   \n     Green Bay Packers             2113  ...               433     34   \n\n                          Tackles_For_Loss  Pass_Deflections  Interceptions  \\\nYear Team                                                                     \n2004 Los Angeles Rams                  0.0               200              6   \n     Buffalo Bills                     0.0               225             24   \n     New Orleans Saints                0.0               221             13   \n     San Francisco 49ers               0.0               182              9   \n     New York Giants                   0.0               175             14   \n...                                    ...               ...            ...   \n2022 Atlanta Falcons                  57.0                69             10   \n     Los Angeles Rams                 68.0                58             16   \n     Arizona Cardinals                87.0                77             11   \n     Buffalo Bills                    93.0                90             17   \n     Green Bay Packers                68.0                63             17   \n\n                          Interception_TDs  Forced_Fumbles  Fumbles_Recovered  \\\nYear Team                                                                       \n2004 Los Angeles Rams                    0              13                  0   \n     Buffalo Bills                       4              21                  0   \n     New Orleans Saints                  0              25                  0   \n     San Francisco 49ers                 0              18                  0   \n     New York Giants                     0              18                  0   \n...                                    ...             ...                ...   \n2022 Atlanta Falcons                     1               8                  7   \n     Los Angeles Rams                    1              11                  6   \n     Arizona Cardinals                   3              13                  9   \n     Buffalo Bills                       1              12                 10   \n     Green Bay Packers                   2              13                  7   \n\n                          Fumble__TDs  Kicks_Blocked  \nYear Team                                             \n2004 Los Angeles Rams               3              0  \n     Buffalo Bills                  0              1  \n     New Orleans Saints             1              2  \n     San Francisco 49ers            2              1  \n     New York Giants                2              0  \n...                               ...            ...  \n2022 Atlanta Falcons                1              3  \n     Los Angeles Rams               0              1  \n     Arizona Cardinals              2              1  \n     Buffalo Bills                  0              1  \n     Green Bay Packers              0              1  \n\n[608 rows x 34 columns]",
            "text/html": "<div>\n<style scoped>\n    .dataframe tbody tr th:only-of-type {\n        vertical-align: middle;\n    }\n\n    .dataframe tbody tr th {\n        vertical-align: top;\n    }\n\n    .dataframe thead th {\n        text-align: right;\n    }\n</style>\n<table border=\"1\" class=\"dataframe\">\n  <thead>\n    <tr style=\"text-align: right;\">\n      <th></th>\n      <th></th>\n      <th>Wins</th>\n      <th>Losses</th>\n      <th>Ties</th>\n      <th>Passing_Attempts</th>\n      <th>Passing_Completions</th>\n      <th>Passing_Yards</th>\n      <th>Passing_TDs</th>\n      <th>Interceptions_Thrown</th>\n      <th>Rushing _Attempts</th>\n      <th>Rushing_Yards</th>\n      <th>...</th>\n      <th>Assisted_Tackles</th>\n      <th>Sacks</th>\n      <th>Tackles_For_Loss</th>\n      <th>Pass_Deflections</th>\n      <th>Interceptions</th>\n      <th>Interception_TDs</th>\n      <th>Forced_Fumbles</th>\n      <th>Fumbles_Recovered</th>\n      <th>Fumble__TDs</th>\n      <th>Kicks_Blocked</th>\n    </tr>\n    <tr>\n      <th>Year</th>\n      <th>Team</th>\n      <th></th>\n      <th></th>\n      <th></th>\n      <th></th>\n      <th></th>\n      <th></th>\n      <th></th>\n      <th></th>\n      <th></th>\n      <th></th>\n      <th></th>\n      <th></th>\n      <th></th>\n      <th></th>\n      <th></th>\n      <th></th>\n      <th></th>\n      <th></th>\n      <th></th>\n      <th></th>\n      <th></th>\n    </tr>\n  </thead>\n  <tbody>\n    <tr>\n      <th rowspan=\"5\" valign=\"top\">2004</th>\n      <th>Los Angeles Rams</th>\n      <td>8</td>\n      <td>8</td>\n      <td>0</td>\n      <td>580</td>\n      <td>372</td>\n      <td>4615</td>\n      <td>23</td>\n      <td>22</td>\n      <td>381</td>\n      <td>1624</td>\n      <td>...</td>\n      <td>169</td>\n      <td>34</td>\n      <td>0.0</td>\n      <td>200</td>\n      <td>6</td>\n      <td>0</td>\n      <td>13</td>\n      <td>0</td>\n      <td>3</td>\n      <td>0</td>\n    </tr>\n    <tr>\n      <th>Buffalo Bills</th>\n      <td>9</td>\n      <td>7</td>\n      <td>0</td>\n      <td>461</td>\n      <td>262</td>\n      <td>3032</td>\n      <td>21</td>\n      <td>17</td>\n      <td>483</td>\n      <td>1874</td>\n      <td>...</td>\n      <td>377</td>\n      <td>45</td>\n      <td>0.0</td>\n      <td>225</td>\n      <td>24</td>\n      <td>4</td>\n      <td>21</td>\n      <td>0</td>\n      <td>0</td>\n      <td>1</td>\n    </tr>\n    <tr>\n      <th>New Orleans Saints</th>\n      <td>8</td>\n      <td>8</td>\n      <td>0</td>\n      <td>542</td>\n      <td>309</td>\n      <td>3810</td>\n      <td>21</td>\n      <td>16</td>\n      <td>406</td>\n      <td>1606</td>\n      <td>...</td>\n      <td>216</td>\n      <td>37</td>\n      <td>0.0</td>\n      <td>221</td>\n      <td>13</td>\n      <td>0</td>\n      <td>25</td>\n      <td>0</td>\n      <td>1</td>\n      <td>2</td>\n    </tr>\n    <tr>\n      <th>San Francisco 49ers</th>\n      <td>2</td>\n      <td>14</td>\n      <td>0</td>\n      <td>561</td>\n      <td>325</td>\n      <td>3455</td>\n      <td>16</td>\n      <td>21</td>\n      <td>413</td>\n      <td>1449</td>\n      <td>...</td>\n      <td>220</td>\n      <td>29</td>\n      <td>0.0</td>\n      <td>182</td>\n      <td>9</td>\n      <td>0</td>\n      <td>18</td>\n      <td>0</td>\n      <td>2</td>\n      <td>1</td>\n    </tr>\n    <tr>\n      <th>New York Giants</th>\n      <td>6</td>\n      <td>10</td>\n      <td>0</td>\n      <td>475</td>\n      <td>269</td>\n      <td>3097</td>\n      <td>12</td>\n      <td>13</td>\n      <td>424</td>\n      <td>1904</td>\n      <td>...</td>\n      <td>267</td>\n      <td>40</td>\n      <td>0.0</td>\n      <td>175</td>\n      <td>14</td>\n      <td>0</td>\n      <td>18</td>\n      <td>0</td>\n      <td>2</td>\n      <td>0</td>\n    </tr>\n    <tr>\n      <th>...</th>\n      <th>...</th>\n      <td>...</td>\n      <td>...</td>\n      <td>...</td>\n      <td>...</td>\n      <td>...</td>\n      <td>...</td>\n      <td>...</td>\n      <td>...</td>\n      <td>...</td>\n      <td>...</td>\n      <td>...</td>\n      <td>...</td>\n      <td>...</td>\n      <td>...</td>\n      <td>...</td>\n      <td>...</td>\n      <td>...</td>\n      <td>...</td>\n      <td>...</td>\n      <td>...</td>\n      <td>...</td>\n    </tr>\n    <tr>\n      <th rowspan=\"5\" valign=\"top\">2022</th>\n      <th>Atlanta Falcons</th>\n      <td>7</td>\n      <td>10</td>\n      <td>0</td>\n      <td>415</td>\n      <td>257</td>\n      <td>2927</td>\n      <td>17</td>\n      <td>9</td>\n      <td>559</td>\n      <td>2718</td>\n      <td>...</td>\n      <td>554</td>\n      <td>21</td>\n      <td>57.0</td>\n      <td>69</td>\n      <td>10</td>\n      <td>1</td>\n      <td>8</td>\n      <td>7</td>\n      <td>1</td>\n      <td>3</td>\n    </tr>\n    <tr>\n      <th>Los Angeles Rams</th>\n      <td>5</td>\n      <td>12</td>\n      <td>0</td>\n      <td>531</td>\n      <td>347</td>\n      <td>3506</td>\n      <td>16</td>\n      <td>15</td>\n      <td>411</td>\n      <td>1661</td>\n      <td>...</td>\n      <td>450</td>\n      <td>38</td>\n      <td>68.0</td>\n      <td>58</td>\n      <td>16</td>\n      <td>1</td>\n      <td>11</td>\n      <td>6</td>\n      <td>0</td>\n      <td>1</td>\n    </tr>\n    <tr>\n      <th>Arizona Cardinals</th>\n      <td>4</td>\n      <td>13</td>\n      <td>0</td>\n      <td>664</td>\n      <td>433</td>\n      <td>3966</td>\n      <td>17</td>\n      <td>17</td>\n      <td>434</td>\n      <td>1873</td>\n      <td>...</td>\n      <td>421</td>\n      <td>36</td>\n      <td>87.0</td>\n      <td>77</td>\n      <td>11</td>\n      <td>3</td>\n      <td>13</td>\n      <td>9</td>\n      <td>2</td>\n      <td>1</td>\n    </tr>\n    <tr>\n      <th>Buffalo Bills</th>\n      <td>13</td>\n      <td>3</td>\n      <td>0</td>\n      <td>574</td>\n      <td>361</td>\n      <td>4291</td>\n      <td>35</td>\n      <td>14</td>\n      <td>430</td>\n      <td>2232</td>\n      <td>...</td>\n      <td>349</td>\n      <td>40</td>\n      <td>93.0</td>\n      <td>90</td>\n      <td>17</td>\n      <td>1</td>\n      <td>12</td>\n      <td>10</td>\n      <td>0</td>\n      <td>1</td>\n    </tr>\n    <tr>\n      <th>Green Bay Packers</th>\n      <td>8</td>\n      <td>9</td>\n      <td>0</td>\n      <td>563</td>\n      <td>364</td>\n      <td>3890</td>\n      <td>27</td>\n      <td>12</td>\n      <td>456</td>\n      <td>2113</td>\n      <td>...</td>\n      <td>433</td>\n      <td>34</td>\n      <td>68.0</td>\n      <td>63</td>\n      <td>17</td>\n      <td>2</td>\n      <td>13</td>\n      <td>7</td>\n      <td>0</td>\n      <td>1</td>\n    </tr>\n  </tbody>\n</table>\n<p>608 rows × 34 columns</p>\n</div>"
          },
          "metadata": {}
        }
      ],
      "execution_count": 45,
      "metadata": {
        "gather": {
          "logged": 1703908853378
        },
        "jupyter": {
          "outputs_hidden": false,
          "source_hidden": false
        },
        "nteract": {
          "transient": {
            "deleting": false
          }
        }
      }
    },
    {
      "cell_type": "code",
      "source": [
        "stats = pd.concat([stats, win_loss], axis = 1)\n",
        "stats"
      ],
      "outputs": [
        {
          "output_type": "execute_result",
          "execution_count": 46,
          "data": {
            "text/plain": "                          Wins  Losses  Ties  Passing_Attempts  \\\nYear Team                                                        \n2004 Los Angeles Rams        8       8     0               580   \n     Buffalo Bills           9       7     0               461   \n     New Orleans Saints      8       8     0               542   \n     San Francisco 49ers     2      14     0               561   \n     New York Giants         6      10     0               475   \n...                        ...     ...   ...               ...   \n2022 Atlanta Falcons         7      10     0               415   \n     Los Angeles Rams        5      12     0               531   \n     Arizona Cardinals       4      13     0               664   \n     Buffalo Bills          13       3     0               574   \n     Green Bay Packers       8       9     0               563   \n\n                          Passing_Completions  Passing_Yards  Passing_TDs  \\\nYear Team                                                                   \n2004 Los Angeles Rams                     372           4615           23   \n     Buffalo Bills                        262           3032           21   \n     New Orleans Saints                   309           3810           21   \n     San Francisco 49ers                  325           3455           16   \n     New York Giants                      269           3097           12   \n...                                       ...            ...          ...   \n2022 Atlanta Falcons                      257           2927           17   \n     Los Angeles Rams                     347           3506           16   \n     Arizona Cardinals                    433           3966           17   \n     Buffalo Bills                        361           4291           35   \n     Green Bay Packers                    364           3890           27   \n\n                          Interceptions_Thrown  Rushing _Attempts  \\\nYear Team                                                           \n2004 Los Angeles Rams                       22                381   \n     Buffalo Bills                          17                483   \n     New Orleans Saints                     16                406   \n     San Francisco 49ers                    21                413   \n     New York Giants                        13                424   \n...                                        ...                ...   \n2022 Atlanta Falcons                         9                559   \n     Los Angeles Rams                       15                411   \n     Arizona Cardinals                      17                434   \n     Buffalo Bills                          14                430   \n     Green Bay Packers                      12                456   \n\n                          Rushing_Yards  ...  Sacks  Tackles_For_Loss  \\\nYear Team                                ...                            \n2004 Los Angeles Rams              1624  ...     34               0.0   \n     Buffalo Bills                 1874  ...     45               0.0   \n     New Orleans Saints            1606  ...     37               0.0   \n     San Francisco 49ers           1449  ...     29               0.0   \n     New York Giants               1904  ...     40               0.0   \n...                                 ...  ...    ...               ...   \n2022 Atlanta Falcons               2718  ...     21              57.0   \n     Los Angeles Rams              1661  ...     38              68.0   \n     Arizona Cardinals             1873  ...     36              87.0   \n     Buffalo Bills                 2232  ...     40              93.0   \n     Green Bay Packers             2113  ...     34              68.0   \n\n                          Pass_Deflections  Interceptions  Interception_TDs  \\\nYear Team                                                                     \n2004 Los Angeles Rams                  200              6                 0   \n     Buffalo Bills                     225             24                 4   \n     New Orleans Saints                221             13                 0   \n     San Francisco 49ers               182              9                 0   \n     New York Giants                   175             14                 0   \n...                                    ...            ...               ...   \n2022 Atlanta Falcons                    69             10                 1   \n     Los Angeles Rams                   58             16                 1   \n     Arizona Cardinals                  77             11                 3   \n     Buffalo Bills                      90             17                 1   \n     Green Bay Packers                  63             17                 2   \n\n                          Forced_Fumbles  Fumbles_Recovered  Fumble__TDs  \\\nYear Team                                                                  \n2004 Los Angeles Rams                 13                  0            3   \n     Buffalo Bills                    21                  0            0   \n     New Orleans Saints               25                  0            1   \n     San Francisco 49ers              18                  0            2   \n     New York Giants                  18                  0            2   \n...                                  ...                ...          ...   \n2022 Atlanta Falcons                   8                  7            1   \n     Los Angeles Rams                 11                  6            0   \n     Arizona Cardinals                13                  9            2   \n     Buffalo Bills                    12                 10            0   \n     Green Bay Packers                13                  7            0   \n\n                          Kicks_Blocked  avg opp wins  \nYear Team                                              \n2004 Los Angeles Rams                 0      7.812500  \n     Buffalo Bills                    1      8.187500  \n     New Orleans Saints               2      7.437500  \n     San Francisco 49ers              1      7.812500  \n     New York Giants                  0      8.250000  \n...                                 ...           ...  \n2022 Atlanta Falcons                  3      7.882353  \n     Los Angeles Rams                 1      8.764706  \n     Arizona Cardinals                1      9.000000  \n     Buffalo Bills                    1      8.312500  \n     Green Bay Packers                1      8.823529  \n\n[608 rows x 35 columns]",
            "text/html": "<div>\n<style scoped>\n    .dataframe tbody tr th:only-of-type {\n        vertical-align: middle;\n    }\n\n    .dataframe tbody tr th {\n        vertical-align: top;\n    }\n\n    .dataframe thead th {\n        text-align: right;\n    }\n</style>\n<table border=\"1\" class=\"dataframe\">\n  <thead>\n    <tr style=\"text-align: right;\">\n      <th></th>\n      <th></th>\n      <th>Wins</th>\n      <th>Losses</th>\n      <th>Ties</th>\n      <th>Passing_Attempts</th>\n      <th>Passing_Completions</th>\n      <th>Passing_Yards</th>\n      <th>Passing_TDs</th>\n      <th>Interceptions_Thrown</th>\n      <th>Rushing _Attempts</th>\n      <th>Rushing_Yards</th>\n      <th>...</th>\n      <th>Sacks</th>\n      <th>Tackles_For_Loss</th>\n      <th>Pass_Deflections</th>\n      <th>Interceptions</th>\n      <th>Interception_TDs</th>\n      <th>Forced_Fumbles</th>\n      <th>Fumbles_Recovered</th>\n      <th>Fumble__TDs</th>\n      <th>Kicks_Blocked</th>\n      <th>avg opp wins</th>\n    </tr>\n    <tr>\n      <th>Year</th>\n      <th>Team</th>\n      <th></th>\n      <th></th>\n      <th></th>\n      <th></th>\n      <th></th>\n      <th></th>\n      <th></th>\n      <th></th>\n      <th></th>\n      <th></th>\n      <th></th>\n      <th></th>\n      <th></th>\n      <th></th>\n      <th></th>\n      <th></th>\n      <th></th>\n      <th></th>\n      <th></th>\n      <th></th>\n      <th></th>\n    </tr>\n  </thead>\n  <tbody>\n    <tr>\n      <th rowspan=\"5\" valign=\"top\">2004</th>\n      <th>Los Angeles Rams</th>\n      <td>8</td>\n      <td>8</td>\n      <td>0</td>\n      <td>580</td>\n      <td>372</td>\n      <td>4615</td>\n      <td>23</td>\n      <td>22</td>\n      <td>381</td>\n      <td>1624</td>\n      <td>...</td>\n      <td>34</td>\n      <td>0.0</td>\n      <td>200</td>\n      <td>6</td>\n      <td>0</td>\n      <td>13</td>\n      <td>0</td>\n      <td>3</td>\n      <td>0</td>\n      <td>7.812500</td>\n    </tr>\n    <tr>\n      <th>Buffalo Bills</th>\n      <td>9</td>\n      <td>7</td>\n      <td>0</td>\n      <td>461</td>\n      <td>262</td>\n      <td>3032</td>\n      <td>21</td>\n      <td>17</td>\n      <td>483</td>\n      <td>1874</td>\n      <td>...</td>\n      <td>45</td>\n      <td>0.0</td>\n      <td>225</td>\n      <td>24</td>\n      <td>4</td>\n      <td>21</td>\n      <td>0</td>\n      <td>0</td>\n      <td>1</td>\n      <td>8.187500</td>\n    </tr>\n    <tr>\n      <th>New Orleans Saints</th>\n      <td>8</td>\n      <td>8</td>\n      <td>0</td>\n      <td>542</td>\n      <td>309</td>\n      <td>3810</td>\n      <td>21</td>\n      <td>16</td>\n      <td>406</td>\n      <td>1606</td>\n      <td>...</td>\n      <td>37</td>\n      <td>0.0</td>\n      <td>221</td>\n      <td>13</td>\n      <td>0</td>\n      <td>25</td>\n      <td>0</td>\n      <td>1</td>\n      <td>2</td>\n      <td>7.437500</td>\n    </tr>\n    <tr>\n      <th>San Francisco 49ers</th>\n      <td>2</td>\n      <td>14</td>\n      <td>0</td>\n      <td>561</td>\n      <td>325</td>\n      <td>3455</td>\n      <td>16</td>\n      <td>21</td>\n      <td>413</td>\n      <td>1449</td>\n      <td>...</td>\n      <td>29</td>\n      <td>0.0</td>\n      <td>182</td>\n      <td>9</td>\n      <td>0</td>\n      <td>18</td>\n      <td>0</td>\n      <td>2</td>\n      <td>1</td>\n      <td>7.812500</td>\n    </tr>\n    <tr>\n      <th>New York Giants</th>\n      <td>6</td>\n      <td>10</td>\n      <td>0</td>\n      <td>475</td>\n      <td>269</td>\n      <td>3097</td>\n      <td>12</td>\n      <td>13</td>\n      <td>424</td>\n      <td>1904</td>\n      <td>...</td>\n      <td>40</td>\n      <td>0.0</td>\n      <td>175</td>\n      <td>14</td>\n      <td>0</td>\n      <td>18</td>\n      <td>0</td>\n      <td>2</td>\n      <td>0</td>\n      <td>8.250000</td>\n    </tr>\n    <tr>\n      <th>...</th>\n      <th>...</th>\n      <td>...</td>\n      <td>...</td>\n      <td>...</td>\n      <td>...</td>\n      <td>...</td>\n      <td>...</td>\n      <td>...</td>\n      <td>...</td>\n      <td>...</td>\n      <td>...</td>\n      <td>...</td>\n      <td>...</td>\n      <td>...</td>\n      <td>...</td>\n      <td>...</td>\n      <td>...</td>\n      <td>...</td>\n      <td>...</td>\n      <td>...</td>\n      <td>...</td>\n      <td>...</td>\n    </tr>\n    <tr>\n      <th rowspan=\"5\" valign=\"top\">2022</th>\n      <th>Atlanta Falcons</th>\n      <td>7</td>\n      <td>10</td>\n      <td>0</td>\n      <td>415</td>\n      <td>257</td>\n      <td>2927</td>\n      <td>17</td>\n      <td>9</td>\n      <td>559</td>\n      <td>2718</td>\n      <td>...</td>\n      <td>21</td>\n      <td>57.0</td>\n      <td>69</td>\n      <td>10</td>\n      <td>1</td>\n      <td>8</td>\n      <td>7</td>\n      <td>1</td>\n      <td>3</td>\n      <td>7.882353</td>\n    </tr>\n    <tr>\n      <th>Los Angeles Rams</th>\n      <td>5</td>\n      <td>12</td>\n      <td>0</td>\n      <td>531</td>\n      <td>347</td>\n      <td>3506</td>\n      <td>16</td>\n      <td>15</td>\n      <td>411</td>\n      <td>1661</td>\n      <td>...</td>\n      <td>38</td>\n      <td>68.0</td>\n      <td>58</td>\n      <td>16</td>\n      <td>1</td>\n      <td>11</td>\n      <td>6</td>\n      <td>0</td>\n      <td>1</td>\n      <td>8.764706</td>\n    </tr>\n    <tr>\n      <th>Arizona Cardinals</th>\n      <td>4</td>\n      <td>13</td>\n      <td>0</td>\n      <td>664</td>\n      <td>433</td>\n      <td>3966</td>\n      <td>17</td>\n      <td>17</td>\n      <td>434</td>\n      <td>1873</td>\n      <td>...</td>\n      <td>36</td>\n      <td>87.0</td>\n      <td>77</td>\n      <td>11</td>\n      <td>3</td>\n      <td>13</td>\n      <td>9</td>\n      <td>2</td>\n      <td>1</td>\n      <td>9.000000</td>\n    </tr>\n    <tr>\n      <th>Buffalo Bills</th>\n      <td>13</td>\n      <td>3</td>\n      <td>0</td>\n      <td>574</td>\n      <td>361</td>\n      <td>4291</td>\n      <td>35</td>\n      <td>14</td>\n      <td>430</td>\n      <td>2232</td>\n      <td>...</td>\n      <td>40</td>\n      <td>93.0</td>\n      <td>90</td>\n      <td>17</td>\n      <td>1</td>\n      <td>12</td>\n      <td>10</td>\n      <td>0</td>\n      <td>1</td>\n      <td>8.312500</td>\n    </tr>\n    <tr>\n      <th>Green Bay Packers</th>\n      <td>8</td>\n      <td>9</td>\n      <td>0</td>\n      <td>563</td>\n      <td>364</td>\n      <td>3890</td>\n      <td>27</td>\n      <td>12</td>\n      <td>456</td>\n      <td>2113</td>\n      <td>...</td>\n      <td>34</td>\n      <td>68.0</td>\n      <td>63</td>\n      <td>17</td>\n      <td>2</td>\n      <td>13</td>\n      <td>7</td>\n      <td>0</td>\n      <td>1</td>\n      <td>8.823529</td>\n    </tr>\n  </tbody>\n</table>\n<p>608 rows × 35 columns</p>\n</div>"
          },
          "metadata": {}
        }
      ],
      "execution_count": 46,
      "metadata": {
        "gather": {
          "logged": 1703908853601
        },
        "jupyter": {
          "outputs_hidden": false,
          "source_hidden": false
        },
        "nteract": {
          "transient": {
            "deleting": false
          }
        }
      }
    },
    {
      "cell_type": "code",
      "source": [],
      "outputs": [],
      "execution_count": 47,
      "metadata": {
        "jupyter": {
          "outputs_hidden": false,
          "source_hidden": false
        },
        "nteract": {
          "transient": {
            "deleting": false
          }
        },
        "gather": {
          "logged": 1703908853801
        }
      }
    },
    {
      "cell_type": "code",
      "source": [],
      "outputs": [],
      "execution_count": null,
      "metadata": {
        "jupyter": {
          "source_hidden": false,
          "outputs_hidden": false
        },
        "nteract": {
          "transient": {
            "deleting": false
          }
        }
      }
    }
  ],
  "metadata": {
    "kernel_info": {
      "name": "python310-sdkv2"
    },
    "kernelspec": {
      "name": "python310-sdkv2",
      "language": "python",
      "display_name": "Python 3.10 - SDK v2"
    },
    "language_info": {
      "name": "python",
      "version": "3.10.11",
      "mimetype": "text/x-python",
      "codemirror_mode": {
        "name": "ipython",
        "version": 3
      },
      "pygments_lexer": "ipython3",
      "nbconvert_exporter": "python",
      "file_extension": ".py"
    },
    "microsoft": {
      "host": {
        "AzureML": {
          "notebookHasBeenCompleted": true
        }
      },
      "ms_spell_check": {
        "ms_spell_check_language": "en"
      }
    },
    "nteract": {
      "version": "nteract-front-end@1.0.0"
    }
  },
  "nbformat": 4,
  "nbformat_minor": 2
}